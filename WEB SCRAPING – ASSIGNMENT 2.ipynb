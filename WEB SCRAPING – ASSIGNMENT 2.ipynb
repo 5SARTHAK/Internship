{
 "cells": [
  {
   "cell_type": "markdown",
   "id": "bf92e656",
   "metadata": {},
   "source": [
    "# Q1: Write a python program to scrape data for “Data Analyst” Job position in “Bangalore” location. You\n",
    "## have to scrape the job-title, job-location, company_name, experience_required. You have to scrape first 10\n",
    "## jobs data.\n",
    "## This task will be done in following steps:\n",
    "## 1. First get the webpage https://www.naukri.com/\n",
    "## 2. Enter “Data Analyst” in “Skill, Designations, Companies” field and enter “Bangalore” in   “enter the location” field.\n",
    "## 3. Then click the search button.\n",
    "## 4. Then scrape the data for the first 10 jobs results you get.\n",
    "## 5. Finally create a dataframe of the scraped data."
   ]
  },
  {
   "cell_type": "code",
   "execution_count": 112,
   "id": "82f6497e",
   "metadata": {
    "scrolled": true
   },
   "outputs": [
    {
     "data": {
      "text/html": [
       "<div>\n",
       "<style scoped>\n",
       "    .dataframe tbody tr th:only-of-type {\n",
       "        vertical-align: middle;\n",
       "    }\n",
       "\n",
       "    .dataframe tbody tr th {\n",
       "        vertical-align: top;\n",
       "    }\n",
       "\n",
       "    .dataframe thead th {\n",
       "        text-align: right;\n",
       "    }\n",
       "</style>\n",
       "<table border=\"1\" class=\"dataframe\">\n",
       "  <thead>\n",
       "    <tr style=\"text-align: right;\">\n",
       "      <th></th>\n",
       "      <th>Position</th>\n",
       "      <th>Company</th>\n",
       "      <th>Experience</th>\n",
       "      <th>Salary</th>\n",
       "    </tr>\n",
       "  </thead>\n",
       "  <tbody>\n",
       "  </tbody>\n",
       "</table>\n",
       "</div>"
      ],
      "text/plain": [
       "Empty DataFrame\n",
       "Columns: [Position, Company, Experience, Salary]\n",
       "Index: []"
      ]
     },
     "execution_count": 112,
     "metadata": {},
     "output_type": "execute_result"
    }
   ],
   "source": [
    "import selenium\n",
    "from selenium import webdriver\n",
    "from selenium.webdriver.common.by import By\n",
    "import pandas as pd\n",
    "import warnings\n",
    "warnings.filterwarnings('ignore')\n",
    "\n",
    "driver = webdriver.Chrome('chromedriver.exe')\n",
    "\n",
    "url = 'https://www.naukri.com/'\n",
    "driver.get(url)\n",
    "\n",
    "search_job = driver.find_element(By.XPATH,\"/html/body/div[1]/div[2]/div[3]/div/div/div[1]/div/div/div/input\")\n",
    "\n",
    "search_job.send_keys('Data Analyst')\n",
    "\n",
    "search_loc = driver.find_element(By.XPATH,\"/html/body/div[1]/div[2]/div[3]/div/div/div[5]/div/div/div/input\")\n",
    "\n",
    "search_loc.send_keys('Bangalore')\n",
    "\n",
    "search_btn = driver.find_element(By.XPATH,\"/html/body/div[1]/div[2]/div[3]/div/div/div[6]\")\n",
    "\n",
    "search_btn.click()\n",
    "\n",
    "title_tags = driver.find_elements(By.XPATH,'//a[@class=\"title fw500 ellipsis\"]')\n",
    "\n",
    "titles = []\n",
    "for i in title_tags:\n",
    "    titles.append(i.text)\n",
    "del titles[10:]\n",
    "\n",
    "company_tags = driver.find_elements(By.XPATH,'//a[@class=\"subTitle ellipsis fleft\"]')\n",
    "\n",
    "company = []\n",
    "for i in company_tags:\n",
    "    company.append(i.text)\n",
    "del company[10:]\n",
    "\n",
    "exp_tags = driver.find_elements(By.XPATH,'//li[@class=\"fleft grey-text br2 placeHolderLi experience\"]')\n",
    "\n",
    "exp = []\n",
    "for i in exp_tags:\n",
    "    exp.append(i.text)\n",
    "del exp[10:]\n",
    "\n",
    "sal_tags = driver.find_elements(By.XPATH,'//li[@class=\"fleft grey-text br2 placeHolderLi salary\"]')\n",
    "\n",
    "sal = []\n",
    "for i in sal_tags:\n",
    "    sal.append(i.text)\n",
    "del sal[10:]\n",
    "\n",
    "data = pd.DataFrame()\n",
    "data['Position'] = titles\n",
    "data['Company'] = company\n",
    "data['Experience'] = exp\n",
    "data['Salary'] = sal\n",
    "data"
   ]
  },
  {
   "cell_type": "markdown",
   "id": "d7ffa47d",
   "metadata": {},
   "source": [
    "# Q2: Write a python program to scrape data for “Data Scientist” Job position in “Bangalore” location. You\n",
    "## have to scrape the job-title, job-location, company_name. You have to scrape first 10 jobs data.\n",
    "## This task will be done in following steps:\n",
    "## 1. First get the webpage https://www.naukri.com/\n",
    "## 2. Enter “Data Scientist” in “Skill, Designations, Companies” field and enter “Bangalore” in “enter the location” field.\n",
    "## 3. Then click the search button.\n",
    "## 4. Then scrape the data for the first 10 jobs results you get.\n",
    "## 5. Finally create a dataframe of the scraped data."
   ]
  },
  {
   "cell_type": "code",
   "execution_count": 93,
   "id": "1543b7b6",
   "metadata": {},
   "outputs": [
    {
     "name": "stdout",
     "output_type": "stream",
     "text": [
      "Requirement already satisfied: selenium in c:\\users\\sarth\\anaconda3\\lib\\site-packages (4.3.0)\n",
      "Requirement already satisfied: trio-websocket~=0.9 in c:\\users\\sarth\\anaconda3\\lib\\site-packages (from selenium) (0.9.2)\n",
      "Requirement already satisfied: urllib3[secure,socks]~=1.26 in c:\\users\\sarth\\anaconda3\\lib\\site-packages (from selenium) (1.26.7)\n",
      "Requirement already satisfied: trio~=0.17 in c:\\users\\sarth\\anaconda3\\lib\\site-packages (from selenium) (0.21.0)\n",
      "Requirement already satisfied: cffi>=1.14 in c:\\users\\sarth\\anaconda3\\lib\\site-packages (from trio~=0.17->selenium) (1.14.6)\n",
      "Requirement already satisfied: outcome in c:\\users\\sarth\\anaconda3\\lib\\site-packages (from trio~=0.17->selenium) (1.2.0)\n",
      "Requirement already satisfied: sniffio in c:\\users\\sarth\\anaconda3\\lib\\site-packages (from trio~=0.17->selenium) (1.2.0)\n",
      "Requirement already satisfied: idna in c:\\users\\sarth\\anaconda3\\lib\\site-packages (from trio~=0.17->selenium) (3.2)\n",
      "Requirement already satisfied: attrs>=19.2.0 in c:\\users\\sarth\\anaconda3\\lib\\site-packages (from trio~=0.17->selenium) (21.2.0)\n",
      "Requirement already satisfied: sortedcontainers in c:\\users\\sarth\\anaconda3\\lib\\site-packages (from trio~=0.17->selenium) (2.4.0)\n",
      "Requirement already satisfied: async-generator>=1.9 in c:\\users\\sarth\\anaconda3\\lib\\site-packages (from trio~=0.17->selenium) (1.10)\n",
      "Requirement already satisfied: pycparser in c:\\users\\sarth\\anaconda3\\lib\\site-packages (from cffi>=1.14->trio~=0.17->selenium) (2.20)\n",
      "Requirement already satisfied: wsproto>=0.14 in c:\\users\\sarth\\anaconda3\\lib\\site-packages (from trio-websocket~=0.9->selenium) (1.1.0)\n",
      "Requirement already satisfied: pyOpenSSL>=0.14 in c:\\users\\sarth\\anaconda3\\lib\\site-packages (from urllib3[secure,socks]~=1.26->selenium) (21.0.0)\n",
      "Requirement already satisfied: cryptography>=1.3.4 in c:\\users\\sarth\\anaconda3\\lib\\site-packages (from urllib3[secure,socks]~=1.26->selenium) (3.4.8)\n",
      "Requirement already satisfied: certifi in c:\\users\\sarth\\anaconda3\\lib\\site-packages (from urllib3[secure,socks]~=1.26->selenium) (2021.10.8)\n",
      "Requirement already satisfied: PySocks!=1.5.7,<2.0,>=1.5.6 in c:\\users\\sarth\\anaconda3\\lib\\site-packages (from urllib3[secure,socks]~=1.26->selenium) (1.7.1)\n",
      "Requirement already satisfied: six>=1.5.2 in c:\\users\\sarth\\anaconda3\\lib\\site-packages (from pyOpenSSL>=0.14->urllib3[secure,socks]~=1.26->selenium) (1.16.0)\n",
      "Requirement already satisfied: h11<1,>=0.9.0 in c:\\users\\sarth\\anaconda3\\lib\\site-packages (from wsproto>=0.14->trio-websocket~=0.9->selenium) (0.13.0)\n"
     ]
    }
   ],
   "source": [
    "!pip install selenium"
   ]
  },
  {
   "cell_type": "code",
   "execution_count": 113,
   "id": "358e4361",
   "metadata": {},
   "outputs": [],
   "source": [
    "import selenium\n",
    "from selenium import webdriver\n",
    "from selenium.webdriver.common.by import By\n",
    "import pandas as pd\n",
    "import warnings\n",
    "warnings.filterwarnings('ignore')"
   ]
  },
  {
   "cell_type": "code",
   "execution_count": 114,
   "id": "04436458",
   "metadata": {},
   "outputs": [],
   "source": [
    "driver = webdriver.Chrome('chromedriver.exe')"
   ]
  },
  {
   "cell_type": "code",
   "execution_count": 115,
   "id": "afbe63c7",
   "metadata": {},
   "outputs": [],
   "source": [
    "url = 'https://www.naukri.com/'\n",
    "driver.get(url)"
   ]
  },
  {
   "cell_type": "code",
   "execution_count": 116,
   "id": "a2d099ff",
   "metadata": {},
   "outputs": [],
   "source": [
    "search_job = driver.find_element(By.XPATH,\"/html/body/div[1]/div[2]/div[3]/div/div/div[1]/div/div/div/input\")"
   ]
  },
  {
   "cell_type": "code",
   "execution_count": 117,
   "id": "fd14ffdb",
   "metadata": {},
   "outputs": [],
   "source": [
    "search_job.send_keys('Data Scientist')"
   ]
  },
  {
   "cell_type": "code",
   "execution_count": 118,
   "id": "2976dda4",
   "metadata": {},
   "outputs": [],
   "source": [
    "search_loc = driver.find_element(By.XPATH,\"/html/body/div[1]/div[2]/div[3]/div/div/div[5]/div/div/div/input\")"
   ]
  },
  {
   "cell_type": "code",
   "execution_count": 119,
   "id": "c0786f03",
   "metadata": {},
   "outputs": [],
   "source": [
    "search_loc.send_keys('Bangalore')"
   ]
  },
  {
   "cell_type": "code",
   "execution_count": 120,
   "id": "eee7f34f",
   "metadata": {},
   "outputs": [],
   "source": [
    "search_btn = driver.find_element(By.XPATH,\"/html/body/div[1]/div[2]/div[3]/div/div/div[6]\")"
   ]
  },
  {
   "cell_type": "code",
   "execution_count": 124,
   "id": "5d7f4534",
   "metadata": {},
   "outputs": [],
   "source": [
    "driver.execute_script(\"arguments[0].click();\", search_btn)"
   ]
  },
  {
   "cell_type": "code",
   "execution_count": 130,
   "id": "7581c8d5",
   "metadata": {},
   "outputs": [
    {
     "data": {
      "text/plain": [
       "10"
      ]
     },
     "execution_count": 130,
     "metadata": {},
     "output_type": "execute_result"
    }
   ],
   "source": [
    "title_tags = driver.find_elements(By.XPATH,'//a[@class=\"title fw500 ellipsis\"]')\n",
    "titles = []\n",
    "for i in title_tags:\n",
    "    titles.append(i.text)\n",
    "del titles[10:]\n",
    "len(titles)"
   ]
  },
  {
   "cell_type": "code",
   "execution_count": 131,
   "id": "60fc9aee",
   "metadata": {},
   "outputs": [
    {
     "data": {
      "text/plain": [
       "10"
      ]
     },
     "execution_count": 131,
     "metadata": {},
     "output_type": "execute_result"
    }
   ],
   "source": [
    "company_tags = driver.find_elements(By.XPATH,'//a[@class=\"subTitle ellipsis fleft\"]')\n",
    "company = []\n",
    "for i in company_tags:\n",
    "    company.append(i.text)\n",
    "del company[10:]\n",
    "len(company)"
   ]
  },
  {
   "cell_type": "code",
   "execution_count": 132,
   "id": "dcef44cd",
   "metadata": {},
   "outputs": [
    {
     "data": {
      "text/plain": [
       "10"
      ]
     },
     "execution_count": 132,
     "metadata": {},
     "output_type": "execute_result"
    }
   ],
   "source": [
    "exp_tags = driver.find_elements(By.XPATH,'//li[@class=\"fleft grey-text br2 placeHolderLi experience\"]')\n",
    "exp = []\n",
    "for i in exp_tags:\n",
    "    exp.append(i.text)\n",
    "del exp[10:]\n",
    "len(exp)"
   ]
  },
  {
   "cell_type": "code",
   "execution_count": 133,
   "id": "cd414fbe",
   "metadata": {},
   "outputs": [
    {
     "data": {
      "text/plain": [
       "10"
      ]
     },
     "execution_count": 133,
     "metadata": {},
     "output_type": "execute_result"
    }
   ],
   "source": [
    "sal_tags = driver.find_elements(By.XPATH,'//li[@class=\"fleft grey-text br2 placeHolderLi salary\"]')\n",
    "sal = []\n",
    "for i in sal_tags:\n",
    "    sal.append(i.text)\n",
    "del sal[10:]\n",
    "len(sal)"
   ]
  },
  {
   "cell_type": "code",
   "execution_count": 134,
   "id": "a946a921",
   "metadata": {},
   "outputs": [
    {
     "data": {
      "text/html": [
       "<div>\n",
       "<style scoped>\n",
       "    .dataframe tbody tr th:only-of-type {\n",
       "        vertical-align: middle;\n",
       "    }\n",
       "\n",
       "    .dataframe tbody tr th {\n",
       "        vertical-align: top;\n",
       "    }\n",
       "\n",
       "    .dataframe thead th {\n",
       "        text-align: right;\n",
       "    }\n",
       "</style>\n",
       "<table border=\"1\" class=\"dataframe\">\n",
       "  <thead>\n",
       "    <tr style=\"text-align: right;\">\n",
       "      <th></th>\n",
       "      <th>Position</th>\n",
       "      <th>Company</th>\n",
       "      <th>Experience</th>\n",
       "      <th>Salary</th>\n",
       "    </tr>\n",
       "  </thead>\n",
       "  <tbody>\n",
       "    <tr>\n",
       "      <th>0</th>\n",
       "      <td>Data Scientist/ Senior Data Scientist</td>\n",
       "      <td>Fractal Analytics</td>\n",
       "      <td>3-8 Yrs</td>\n",
       "      <td>Not disclosed</td>\n",
       "    </tr>\n",
       "    <tr>\n",
       "      <th>1</th>\n",
       "      <td>Urgent Job Opening For AI Practitioner - Data ...</td>\n",
       "      <td>Wipro</td>\n",
       "      <td>11-21 Yrs</td>\n",
       "      <td>Not disclosed</td>\n",
       "    </tr>\n",
       "    <tr>\n",
       "      <th>2</th>\n",
       "      <td>Dataiku Consultant</td>\n",
       "      <td>Wipro</td>\n",
       "      <td>10-16 Yrs</td>\n",
       "      <td>Not disclosed</td>\n",
       "    </tr>\n",
       "    <tr>\n",
       "      <th>3</th>\n",
       "      <td>Data Scientist: Advanced Analytics</td>\n",
       "      <td>IBM</td>\n",
       "      <td>2-7 Yrs</td>\n",
       "      <td>Not disclosed</td>\n",
       "    </tr>\n",
       "    <tr>\n",
       "      <th>4</th>\n",
       "      <td>Research Scientist</td>\n",
       "      <td>IBM</td>\n",
       "      <td>3-7 Yrs</td>\n",
       "      <td>Not disclosed</td>\n",
       "    </tr>\n",
       "    <tr>\n",
       "      <th>5</th>\n",
       "      <td>Data Science - Senior Data Scientist - Analytics</td>\n",
       "      <td>Paytm</td>\n",
       "      <td>3-5 Yrs</td>\n",
       "      <td>Not disclosed</td>\n",
       "    </tr>\n",
       "    <tr>\n",
       "      <th>6</th>\n",
       "      <td>Principal - Data Scientist</td>\n",
       "      <td>Schneider Electric</td>\n",
       "      <td>7-10 Yrs</td>\n",
       "      <td>Not disclosed</td>\n",
       "    </tr>\n",
       "    <tr>\n",
       "      <th>7</th>\n",
       "      <td>Research and Development -AI/ML -(PhD )</td>\n",
       "      <td>EXL</td>\n",
       "      <td>4-8 Yrs</td>\n",
       "      <td>Not disclosed</td>\n",
       "    </tr>\n",
       "    <tr>\n",
       "      <th>8</th>\n",
       "      <td>Opportunity For Data Scientist - Female Candid...</td>\n",
       "      <td>PayU</td>\n",
       "      <td>1-3 Yrs</td>\n",
       "      <td>Not disclosed</td>\n",
       "    </tr>\n",
       "    <tr>\n",
       "      <th>9</th>\n",
       "      <td>Senior Data Science Engineer</td>\n",
       "      <td>Fractal Analytics</td>\n",
       "      <td>5-9 Yrs</td>\n",
       "      <td>Not disclosed</td>\n",
       "    </tr>\n",
       "  </tbody>\n",
       "</table>\n",
       "</div>"
      ],
      "text/plain": [
       "                                            Position             Company  \\\n",
       "0              Data Scientist/ Senior Data Scientist   Fractal Analytics   \n",
       "1  Urgent Job Opening For AI Practitioner - Data ...               Wipro   \n",
       "2                                 Dataiku Consultant               Wipro   \n",
       "3                 Data Scientist: Advanced Analytics                 IBM   \n",
       "4                                 Research Scientist                 IBM   \n",
       "5   Data Science - Senior Data Scientist - Analytics               Paytm   \n",
       "6                         Principal - Data Scientist  Schneider Electric   \n",
       "7            Research and Development -AI/ML -(PhD )                 EXL   \n",
       "8  Opportunity For Data Scientist - Female Candid...                PayU   \n",
       "9                       Senior Data Science Engineer   Fractal Analytics   \n",
       "\n",
       "  Experience         Salary  \n",
       "0    3-8 Yrs  Not disclosed  \n",
       "1  11-21 Yrs  Not disclosed  \n",
       "2  10-16 Yrs  Not disclosed  \n",
       "3    2-7 Yrs  Not disclosed  \n",
       "4    3-7 Yrs  Not disclosed  \n",
       "5    3-5 Yrs  Not disclosed  \n",
       "6   7-10 Yrs  Not disclosed  \n",
       "7    4-8 Yrs  Not disclosed  \n",
       "8    1-3 Yrs  Not disclosed  \n",
       "9    5-9 Yrs  Not disclosed  "
      ]
     },
     "execution_count": 134,
     "metadata": {},
     "output_type": "execute_result"
    }
   ],
   "source": [
    "data = pd.DataFrame()\n",
    "data['Position'] = titles\n",
    "data['Company'] = company\n",
    "data['Experience'] = exp\n",
    "data['Salary'] = sal\n",
    "data"
   ]
  },
  {
   "cell_type": "markdown",
   "id": "b2713aa5",
   "metadata": {},
   "source": [
    "# Q3: In this question you have to scrape data using the filters available on the webpage as shown below:\n",
    "## You have to use the location and salary filter.\n",
    "## You have to scrape data for “Data Scientist” designation for first 10 job results.\n",
    "## You have to scrape the job-title, job-location, company name, experience required.\n",
    "## The location filter to be used is “Delhi/NCR”. The salary filter to be used is “3-6” lakhs"
   ]
  },
  {
   "cell_type": "code",
   "execution_count": 144,
   "id": "a835cf3b",
   "metadata": {},
   "outputs": [],
   "source": [
    "import selenium\n",
    "from selenium import webdriver\n",
    "from selenium.webdriver.common.by import By\n",
    "import pandas as pd\n",
    "import warnings\n",
    "warnings.filterwarnings('ignore')"
   ]
  },
  {
   "cell_type": "code",
   "execution_count": 145,
   "id": "fc0bd68c",
   "metadata": {},
   "outputs": [],
   "source": [
    "driver = webdriver.Chrome('chromedriver.exe')"
   ]
  },
  {
   "cell_type": "code",
   "execution_count": 146,
   "id": "eb024523",
   "metadata": {},
   "outputs": [],
   "source": [
    "url = 'https://www.naukri.com/'\n",
    "driver.get(url)"
   ]
  },
  {
   "cell_type": "code",
   "execution_count": 147,
   "id": "6db0dfba",
   "metadata": {},
   "outputs": [],
   "source": [
    "search_job = driver.find_element(By.XPATH,\"/html/body/div[1]/div[2]/div[3]/div/div/div[1]/div/div/div/input\")"
   ]
  },
  {
   "cell_type": "code",
   "execution_count": 148,
   "id": "d044fd8a",
   "metadata": {},
   "outputs": [],
   "source": [
    "search_job.send_keys('Data Scientist')"
   ]
  },
  {
   "cell_type": "code",
   "execution_count": 149,
   "id": "19bee6e0",
   "metadata": {},
   "outputs": [],
   "source": [
    "search_btn = driver.find_element(By.XPATH,\"/html/body/div[1]/div[2]/div[3]/div/div/div[6]\")"
   ]
  },
  {
   "cell_type": "code",
   "execution_count": 150,
   "id": "1f3716f7",
   "metadata": {},
   "outputs": [],
   "source": [
    "driver.execute_script(\"arguments[0].click();\", search_btn)"
   ]
  },
  {
   "cell_type": "code",
   "execution_count": 151,
   "id": "7bce8995",
   "metadata": {},
   "outputs": [],
   "source": [
    "loc_check = driver.find_element(By.XPATH,\"/html/body/div[1]/div[3]/div[2]/section[1]/div[2]/div[5]/div[2]/div[3]/label/i\")"
   ]
  },
  {
   "cell_type": "code",
   "execution_count": 152,
   "id": "022d65b4",
   "metadata": {},
   "outputs": [],
   "source": [
    "driver.execute_script(\"arguments[0].click();\", loc_check)"
   ]
  },
  {
   "cell_type": "code",
   "execution_count": 153,
   "id": "b89c2c65",
   "metadata": {},
   "outputs": [
    {
     "data": {
      "text/plain": [
       "10"
      ]
     },
     "execution_count": 153,
     "metadata": {},
     "output_type": "execute_result"
    }
   ],
   "source": [
    "title_tags = driver.find_elements(By.XPATH,'//a[@class=\"title fw500 ellipsis\"]')\n",
    "titles = []\n",
    "for i in title_tags:\n",
    "    titles.append(i.text)\n",
    "del titles[10:]\n",
    "len(titles)"
   ]
  },
  {
   "cell_type": "code",
   "execution_count": 155,
   "id": "2bd4994d",
   "metadata": {},
   "outputs": [
    {
     "data": {
      "text/plain": [
       "10"
      ]
     },
     "execution_count": 155,
     "metadata": {},
     "output_type": "execute_result"
    }
   ],
   "source": [
    "company_tags = driver.find_elements(By.XPATH,'//a[@class=\"subTitle ellipsis fleft\"]')\n",
    "company = []\n",
    "for i in company_tags:\n",
    "    company.append(i.text)\n",
    "del company[10:]\n",
    "len(company)"
   ]
  },
  {
   "cell_type": "code",
   "execution_count": 156,
   "id": "d76fb410",
   "metadata": {},
   "outputs": [
    {
     "data": {
      "text/plain": [
       "10"
      ]
     },
     "execution_count": 156,
     "metadata": {},
     "output_type": "execute_result"
    }
   ],
   "source": [
    "exp_tags = driver.find_elements(By.XPATH,'//li[@class=\"fleft grey-text br2 placeHolderLi experience\"]')\n",
    "exp = []\n",
    "for i in exp_tags:\n",
    "    exp.append(i.text)\n",
    "del exp[10:]\n",
    "len(exp)"
   ]
  },
  {
   "cell_type": "code",
   "execution_count": 157,
   "id": "ad1e1590",
   "metadata": {},
   "outputs": [
    {
     "data": {
      "text/plain": [
       "10"
      ]
     },
     "execution_count": 157,
     "metadata": {},
     "output_type": "execute_result"
    }
   ],
   "source": [
    "sal_tags = driver.find_elements(By.XPATH,'//li[@class=\"fleft grey-text br2 placeHolderLi salary\"]')\n",
    "sal = []\n",
    "for i in sal_tags:\n",
    "    sal.append(i.text)\n",
    "del sal[10:]\n",
    "len(sal)"
   ]
  },
  {
   "cell_type": "code",
   "execution_count": 158,
   "id": "00b6c99b",
   "metadata": {},
   "outputs": [
    {
     "data": {
      "text/html": [
       "<div>\n",
       "<style scoped>\n",
       "    .dataframe tbody tr th:only-of-type {\n",
       "        vertical-align: middle;\n",
       "    }\n",
       "\n",
       "    .dataframe tbody tr th {\n",
       "        vertical-align: top;\n",
       "    }\n",
       "\n",
       "    .dataframe thead th {\n",
       "        text-align: right;\n",
       "    }\n",
       "</style>\n",
       "<table border=\"1\" class=\"dataframe\">\n",
       "  <thead>\n",
       "    <tr style=\"text-align: right;\">\n",
       "      <th></th>\n",
       "      <th>Position</th>\n",
       "      <th>Company</th>\n",
       "      <th>Experience</th>\n",
       "      <th>Salary</th>\n",
       "    </tr>\n",
       "  </thead>\n",
       "  <tbody>\n",
       "    <tr>\n",
       "      <th>0</th>\n",
       "      <td>Data Scientist/ Senior Data Scientist</td>\n",
       "      <td>Fractal Analytics</td>\n",
       "      <td>3-8 Yrs</td>\n",
       "      <td>Not disclosed</td>\n",
       "    </tr>\n",
       "    <tr>\n",
       "      <th>1</th>\n",
       "      <td>Urgent Job Opening For AI Practitioner - Data ...</td>\n",
       "      <td>Wipro</td>\n",
       "      <td>11-21 Yrs</td>\n",
       "      <td>Not disclosed</td>\n",
       "    </tr>\n",
       "    <tr>\n",
       "      <th>2</th>\n",
       "      <td>Data Science - Senior Data Scientist - Analytics</td>\n",
       "      <td>Paytm</td>\n",
       "      <td>3-5 Yrs</td>\n",
       "      <td>Not disclosed</td>\n",
       "    </tr>\n",
       "    <tr>\n",
       "      <th>3</th>\n",
       "      <td>Research and Development -AI/ML -(PhD )</td>\n",
       "      <td>EXL</td>\n",
       "      <td>4-8 Yrs</td>\n",
       "      <td>Not disclosed</td>\n",
       "    </tr>\n",
       "    <tr>\n",
       "      <th>4</th>\n",
       "      <td>Data Science - Engineering Manager</td>\n",
       "      <td>Paytm</td>\n",
       "      <td>9-13 Yrs</td>\n",
       "      <td>Not disclosed</td>\n",
       "    </tr>\n",
       "    <tr>\n",
       "      <th>5</th>\n",
       "      <td>Opportunity For Data Scientist - Female Candid...</td>\n",
       "      <td>PayU</td>\n",
       "      <td>1-3 Yrs</td>\n",
       "      <td>Not disclosed</td>\n",
       "    </tr>\n",
       "    <tr>\n",
       "      <th>6</th>\n",
       "      <td>Senior Data Science Engineer</td>\n",
       "      <td>Fractal Analytics</td>\n",
       "      <td>5-9 Yrs</td>\n",
       "      <td>Not disclosed</td>\n",
       "    </tr>\n",
       "    <tr>\n",
       "      <th>7</th>\n",
       "      <td>DigitalBCG GAMMA Data Scientist</td>\n",
       "      <td>Boston Consulting Group</td>\n",
       "      <td>2-5 Yrs</td>\n",
       "      <td>Not disclosed</td>\n",
       "    </tr>\n",
       "    <tr>\n",
       "      <th>8</th>\n",
       "      <td>Data Scientist - Python/Machine Learning</td>\n",
       "      <td>Accubits Technologies</td>\n",
       "      <td>4-8 Yrs</td>\n",
       "      <td>Not disclosed</td>\n",
       "    </tr>\n",
       "    <tr>\n",
       "      <th>9</th>\n",
       "      <td>Senior Associate - Data Science</td>\n",
       "      <td>Black Turtle</td>\n",
       "      <td>4-7 Yrs</td>\n",
       "      <td>Not disclosed</td>\n",
       "    </tr>\n",
       "  </tbody>\n",
       "</table>\n",
       "</div>"
      ],
      "text/plain": [
       "                                            Position                  Company  \\\n",
       "0              Data Scientist/ Senior Data Scientist        Fractal Analytics   \n",
       "1  Urgent Job Opening For AI Practitioner - Data ...                    Wipro   \n",
       "2   Data Science - Senior Data Scientist - Analytics                    Paytm   \n",
       "3            Research and Development -AI/ML -(PhD )                      EXL   \n",
       "4                 Data Science - Engineering Manager                    Paytm   \n",
       "5  Opportunity For Data Scientist - Female Candid...                     PayU   \n",
       "6                       Senior Data Science Engineer        Fractal Analytics   \n",
       "7                    DigitalBCG GAMMA Data Scientist  Boston Consulting Group   \n",
       "8           Data Scientist - Python/Machine Learning    Accubits Technologies   \n",
       "9                    Senior Associate - Data Science             Black Turtle   \n",
       "\n",
       "  Experience         Salary  \n",
       "0    3-8 Yrs  Not disclosed  \n",
       "1  11-21 Yrs  Not disclosed  \n",
       "2    3-5 Yrs  Not disclosed  \n",
       "3    4-8 Yrs  Not disclosed  \n",
       "4   9-13 Yrs  Not disclosed  \n",
       "5    1-3 Yrs  Not disclosed  \n",
       "6    5-9 Yrs  Not disclosed  \n",
       "7    2-5 Yrs  Not disclosed  \n",
       "8    4-8 Yrs  Not disclosed  \n",
       "9    4-7 Yrs  Not disclosed  "
      ]
     },
     "execution_count": 158,
     "metadata": {},
     "output_type": "execute_result"
    }
   ],
   "source": [
    "data = pd.DataFrame()\n",
    "data['Position'] = titles\n",
    "data['Company'] = company\n",
    "data['Experience'] = exp\n",
    "data['Salary'] = sal\n",
    "data"
   ]
  },
  {
   "cell_type": "markdown",
   "id": "9adc8380",
   "metadata": {},
   "source": [
    "# Q4: Scrape data of first 100 sunglasses listings on flipkart.com. You have to scrape four attributes:\n",
    "## 1. Brand\n",
    "## 2. Product Description\n",
    "## 3. Price\n",
    "## To scrape the data you have to go through following steps:\n",
    "## 1. Go to Flipkart webpage by url : https://www.flipkart.com/\n",
    "## 2. Enter “sunglasses” in the search field where “search for products, brands and more” is written and click the search icon\n",
    "## 3. After that you will reach to the page having a lot of sunglasses. From this page you can scrap the required data as usual.\n",
    "## 4. After scraping data from the first page, go to the “Next” Button at the bottom other page , then click on it.\n",
    "## 5. Now scrape data from this page as usual\n",
    "## 6. Repeat this until you get data for 100 sunglasses."
   ]
  },
  {
   "cell_type": "code",
   "execution_count": 200,
   "id": "6644d7bb",
   "metadata": {},
   "outputs": [],
   "source": [
    "import selenium\n",
    "from selenium import webdriver\n",
    "from selenium.webdriver.common.by import By\n",
    "import pandas as pd\n",
    "import warnings\n",
    "warnings.filterwarnings('ignore')"
   ]
  },
  {
   "cell_type": "code",
   "execution_count": 201,
   "id": "44a57750",
   "metadata": {},
   "outputs": [],
   "source": [
    "driver = webdriver.Chrome('chromedriver.exe')"
   ]
  },
  {
   "cell_type": "code",
   "execution_count": 202,
   "id": "b02d6ce3",
   "metadata": {},
   "outputs": [],
   "source": [
    "url = 'https://www.flipkart.com/'\n",
    "driver.get(url)"
   ]
  },
  {
   "cell_type": "code",
   "execution_count": 203,
   "id": "fb9bb846",
   "metadata": {},
   "outputs": [],
   "source": [
    "signup = driver.find_element(By.XPATH,\"/html/body/div[2]/div/div/button\")"
   ]
  },
  {
   "cell_type": "code",
   "execution_count": 204,
   "id": "bef78729",
   "metadata": {},
   "outputs": [],
   "source": [
    "driver.execute_script(\"arguments[0].click();\", signup)"
   ]
  },
  {
   "cell_type": "code",
   "execution_count": 205,
   "id": "acccd419",
   "metadata": {},
   "outputs": [],
   "source": [
    "search = driver.find_element(By.XPATH,\"/html/body/div[1]/div/div[1]/div[1]/div[2]/div[2]/form/div/div/input\")"
   ]
  },
  {
   "cell_type": "code",
   "execution_count": 206,
   "id": "21756d8a",
   "metadata": {},
   "outputs": [],
   "source": [
    "search.send_keys('sunglasses')"
   ]
  },
  {
   "cell_type": "code",
   "execution_count": 207,
   "id": "60c4cf14",
   "metadata": {},
   "outputs": [],
   "source": [
    "search_glass = driver.find_element(By.XPATH,\"/html/body/div[1]/div/div[1]/div[1]/div[2]/div[2]/form/div/button\")"
   ]
  },
  {
   "cell_type": "code",
   "execution_count": 208,
   "id": "2b3fbcff",
   "metadata": {},
   "outputs": [],
   "source": [
    "driver.execute_script(\"arguments[0].click();\", search_glass)"
   ]
  },
  {
   "cell_type": "code",
   "execution_count": 209,
   "id": "1be2bd48",
   "metadata": {},
   "outputs": [
    {
     "data": {
      "text/plain": [
       "40"
      ]
     },
     "execution_count": 209,
     "metadata": {},
     "output_type": "execute_result"
    }
   ],
   "source": [
    "brand_tags = driver.find_elements(By.XPATH,'//div[@class=\"_2WkVRV\"]')\n",
    "brands = []\n",
    "for i in brand_tags:\n",
    "    brands.append(i.text)\n",
    "len(brands)"
   ]
  },
  {
   "cell_type": "code",
   "execution_count": 210,
   "id": "234af00a",
   "metadata": {},
   "outputs": [
    {
     "data": {
      "text/plain": [
       "40"
      ]
     },
     "execution_count": 210,
     "metadata": {},
     "output_type": "execute_result"
    }
   ],
   "source": [
    "descrip = driver.find_elements(By.XPATH,'//a[@class=\"IRpwTa\"]')\n",
    "dis = []\n",
    "for i in descrip:\n",
    "    dis.append(i.text)\n",
    "len(dis)"
   ]
  },
  {
   "cell_type": "code",
   "execution_count": 211,
   "id": "fe86a02f",
   "metadata": {},
   "outputs": [
    {
     "data": {
      "text/plain": [
       "40"
      ]
     },
     "execution_count": 211,
     "metadata": {},
     "output_type": "execute_result"
    }
   ],
   "source": [
    "prices = driver.find_elements(By.XPATH,'//div[@class=\"_30jeq3\"]')\n",
    "price = []\n",
    "for i in prices:\n",
    "    price.append(i.text)\n",
    "len(price)"
   ]
  },
  {
   "cell_type": "code",
   "execution_count": 212,
   "id": "6b38783e",
   "metadata": {},
   "outputs": [
    {
     "data": {
      "text/plain": [
       "40"
      ]
     },
     "execution_count": 212,
     "metadata": {},
     "output_type": "execute_result"
    }
   ],
   "source": [
    "discounts = driver.find_elements(By.XPATH,'//div[@class=\"_3Ay6Sb\"]')\n",
    "discount = []\n",
    "for i in discounts:\n",
    "    discount.append(i.text)\n",
    "len(discount)"
   ]
  },
  {
   "cell_type": "code",
   "execution_count": 213,
   "id": "3d9fb6db",
   "metadata": {},
   "outputs": [],
   "source": [
    "next_page = driver.find_element(By.XPATH,\"/html/body/div[1]/div/div[3]/div[1]/div[2]/div[12]/div/div/nav/a[11]\")"
   ]
  },
  {
   "cell_type": "code",
   "execution_count": 214,
   "id": "965a6d91",
   "metadata": {},
   "outputs": [],
   "source": [
    "driver.execute_script(\"arguments[0].click();\", next_page)"
   ]
  },
  {
   "cell_type": "code",
   "execution_count": 215,
   "id": "1e882615",
   "metadata": {},
   "outputs": [
    {
     "data": {
      "text/plain": [
       "80"
      ]
     },
     "execution_count": 215,
     "metadata": {},
     "output_type": "execute_result"
    }
   ],
   "source": [
    "brand_tags = driver.find_elements(By.XPATH,'//div[@class=\"_2WkVRV\"]')\n",
    "for i in brand_tags:\n",
    "    brands.append(i.text)\n",
    "len(brands)"
   ]
  },
  {
   "cell_type": "code",
   "execution_count": 217,
   "id": "2271abda",
   "metadata": {},
   "outputs": [
    {
     "data": {
      "text/plain": [
       "80"
      ]
     },
     "execution_count": 217,
     "metadata": {},
     "output_type": "execute_result"
    }
   ],
   "source": [
    "descrip = driver.find_elements(By.XPATH,'//a[@class=\"IRpwTa\"]')\n",
    "for i in descrip:\n",
    "    dis.append(i.text)\n",
    "len(dis)"
   ]
  },
  {
   "cell_type": "code",
   "execution_count": 218,
   "id": "c964e99a",
   "metadata": {},
   "outputs": [
    {
     "data": {
      "text/plain": [
       "80"
      ]
     },
     "execution_count": 218,
     "metadata": {},
     "output_type": "execute_result"
    }
   ],
   "source": [
    "prices = driver.find_elements(By.XPATH,'//div[@class=\"_30jeq3\"]')\n",
    "for i in prices:\n",
    "    price.append(i.text)\n",
    "len(price)"
   ]
  },
  {
   "cell_type": "code",
   "execution_count": 219,
   "id": "dcaf9891",
   "metadata": {},
   "outputs": [
    {
     "data": {
      "text/plain": [
       "80"
      ]
     },
     "execution_count": 219,
     "metadata": {},
     "output_type": "execute_result"
    }
   ],
   "source": [
    "discounts = driver.find_elements(By.XPATH,'//div[@class=\"_3Ay6Sb\"]')\n",
    "for i in discounts:\n",
    "    discount.append(i.text)\n",
    "len(discount)"
   ]
  },
  {
   "cell_type": "code",
   "execution_count": 220,
   "id": "5ff70003",
   "metadata": {},
   "outputs": [],
   "source": [
    "next_page1 = driver.find_element(By.XPATH,\"/html/body/div[1]/div/div[3]/div[1]/div[2]/div[12]/div/div/nav/a[12]\")"
   ]
  },
  {
   "cell_type": "code",
   "execution_count": 221,
   "id": "fdd158be",
   "metadata": {},
   "outputs": [],
   "source": [
    "driver.execute_script(\"arguments[0].click();\", next_page1)"
   ]
  },
  {
   "cell_type": "code",
   "execution_count": 223,
   "id": "d9280a42",
   "metadata": {},
   "outputs": [
    {
     "data": {
      "text/plain": [
       "100"
      ]
     },
     "execution_count": 223,
     "metadata": {},
     "output_type": "execute_result"
    }
   ],
   "source": [
    "brand_tags = driver.find_elements(By.XPATH,'//div[@class=\"_2WkVRV\"]')\n",
    "for i in brand_tags:\n",
    "    brands.append(i.text)\n",
    "del brands[100:]\n",
    "len(brands)"
   ]
  },
  {
   "cell_type": "code",
   "execution_count": 224,
   "id": "cfdd8bd1",
   "metadata": {},
   "outputs": [
    {
     "data": {
      "text/plain": [
       "100"
      ]
     },
     "execution_count": 224,
     "metadata": {},
     "output_type": "execute_result"
    }
   ],
   "source": [
    "descrip = driver.find_elements(By.XPATH,'//a[@class=\"IRpwTa\"]')\n",
    "for i in descrip:\n",
    "    dis.append(i.text)\n",
    "del dis[100:]\n",
    "len(dis)"
   ]
  },
  {
   "cell_type": "code",
   "execution_count": 225,
   "id": "3dac22e9",
   "metadata": {},
   "outputs": [
    {
     "data": {
      "text/plain": [
       "100"
      ]
     },
     "execution_count": 225,
     "metadata": {},
     "output_type": "execute_result"
    }
   ],
   "source": [
    "prices = driver.find_elements(By.XPATH,'//div[@class=\"_30jeq3\"]')\n",
    "for i in prices:\n",
    "    price.append(i.text)\n",
    "del price[100:]\n",
    "len(price)"
   ]
  },
  {
   "cell_type": "code",
   "execution_count": 255,
   "id": "ad3b4ba8",
   "metadata": {},
   "outputs": [
    {
     "data": {
      "text/plain": [
       "100"
      ]
     },
     "execution_count": 255,
     "metadata": {},
     "output_type": "execute_result"
    }
   ],
   "source": [
    "discounts = driver.find_elements(By.XPATH,'//div[@class=\"_3Ay6Sb\"]')\n",
    "for i in discounts:\n",
    "    discount.append(i.text)\n",
    "del discount[100:]\n",
    "len(discount)"
   ]
  },
  {
   "cell_type": "code",
   "execution_count": 227,
   "id": "ef50dd39",
   "metadata": {},
   "outputs": [
    {
     "data": {
      "text/html": [
       "<div>\n",
       "<style scoped>\n",
       "    .dataframe tbody tr th:only-of-type {\n",
       "        vertical-align: middle;\n",
       "    }\n",
       "\n",
       "    .dataframe tbody tr th {\n",
       "        vertical-align: top;\n",
       "    }\n",
       "\n",
       "    .dataframe thead th {\n",
       "        text-align: right;\n",
       "    }\n",
       "</style>\n",
       "<table border=\"1\" class=\"dataframe\">\n",
       "  <thead>\n",
       "    <tr style=\"text-align: right;\">\n",
       "      <th></th>\n",
       "      <th>Brand</th>\n",
       "      <th>Description</th>\n",
       "      <th>Price</th>\n",
       "      <th>Discount</th>\n",
       "    </tr>\n",
       "  </thead>\n",
       "  <tbody>\n",
       "    <tr>\n",
       "      <th>0</th>\n",
       "      <td>PHENOMENAL</td>\n",
       "      <td>UV Protection, Mirrored Retro Square Sunglasse...</td>\n",
       "      <td>₹369</td>\n",
       "      <td>81% off</td>\n",
       "    </tr>\n",
       "    <tr>\n",
       "      <th>1</th>\n",
       "      <td>Singco India</td>\n",
       "      <td>Gradient, Toughened Glass Lens, UV Protection ...</td>\n",
       "      <td>₹598</td>\n",
       "      <td>80% off</td>\n",
       "    </tr>\n",
       "    <tr>\n",
       "      <th>2</th>\n",
       "      <td>Fastrack</td>\n",
       "      <td>UV Protection Rectangular Sunglasses (Free Size)</td>\n",
       "      <td>₹639</td>\n",
       "      <td>20% off</td>\n",
       "    </tr>\n",
       "    <tr>\n",
       "      <th>3</th>\n",
       "      <td>Elligator</td>\n",
       "      <td>UV Protection Round Sunglasses (54)</td>\n",
       "      <td>₹315</td>\n",
       "      <td>87% off</td>\n",
       "    </tr>\n",
       "    <tr>\n",
       "      <th>4</th>\n",
       "      <td>New Specs</td>\n",
       "      <td>UV Protection Rectangular Sunglasses (Free Size)</td>\n",
       "      <td>₹264</td>\n",
       "      <td>89% off</td>\n",
       "    </tr>\n",
       "    <tr>\n",
       "      <th>...</th>\n",
       "      <td>...</td>\n",
       "      <td>...</td>\n",
       "      <td>...</td>\n",
       "      <td>...</td>\n",
       "    </tr>\n",
       "    <tr>\n",
       "      <th>95</th>\n",
       "      <td>IZAAN MART</td>\n",
       "      <td>UV Protection Shield Sunglasses (Free Size)</td>\n",
       "      <td>₹211</td>\n",
       "      <td>78% off</td>\n",
       "    </tr>\n",
       "    <tr>\n",
       "      <th>96</th>\n",
       "      <td>ROZZETTA CRAFT</td>\n",
       "      <td>UV Protection Round Sunglasses (Free Size)</td>\n",
       "      <td>₹379</td>\n",
       "      <td>85% off</td>\n",
       "    </tr>\n",
       "    <tr>\n",
       "      <th>97</th>\n",
       "      <td>Roadster</td>\n",
       "      <td>Others Aviator Sunglasses (Free Size)</td>\n",
       "      <td>₹449</td>\n",
       "      <td>55% off</td>\n",
       "    </tr>\n",
       "    <tr>\n",
       "      <th>98</th>\n",
       "      <td>ROYAL SON</td>\n",
       "      <td>Polarized, UV Protection Aviator Sunglasses (58)</td>\n",
       "      <td>₹711</td>\n",
       "      <td>64% off</td>\n",
       "    </tr>\n",
       "    <tr>\n",
       "      <th>99</th>\n",
       "      <td>Ray-Ban</td>\n",
       "      <td>Mirrored, UV Protection Aviator Sunglasses (58)</td>\n",
       "      <td>₹3,909</td>\n",
       "      <td>30% off</td>\n",
       "    </tr>\n",
       "  </tbody>\n",
       "</table>\n",
       "<p>100 rows × 4 columns</p>\n",
       "</div>"
      ],
      "text/plain": [
       "             Brand                                        Description   Price  \\\n",
       "0       PHENOMENAL  UV Protection, Mirrored Retro Square Sunglasse...    ₹369   \n",
       "1     Singco India  Gradient, Toughened Glass Lens, UV Protection ...    ₹598   \n",
       "2         Fastrack   UV Protection Rectangular Sunglasses (Free Size)    ₹639   \n",
       "3        Elligator                UV Protection Round Sunglasses (54)    ₹315   \n",
       "4        New Specs   UV Protection Rectangular Sunglasses (Free Size)    ₹264   \n",
       "..             ...                                                ...     ...   \n",
       "95      IZAAN MART        UV Protection Shield Sunglasses (Free Size)    ₹211   \n",
       "96  ROZZETTA CRAFT         UV Protection Round Sunglasses (Free Size)    ₹379   \n",
       "97        Roadster              Others Aviator Sunglasses (Free Size)    ₹449   \n",
       "98       ROYAL SON   Polarized, UV Protection Aviator Sunglasses (58)    ₹711   \n",
       "99         Ray-Ban    Mirrored, UV Protection Aviator Sunglasses (58)  ₹3,909   \n",
       "\n",
       "   Discount  \n",
       "0   81% off  \n",
       "1   80% off  \n",
       "2   20% off  \n",
       "3   87% off  \n",
       "4   89% off  \n",
       "..      ...  \n",
       "95  78% off  \n",
       "96  85% off  \n",
       "97  55% off  \n",
       "98  64% off  \n",
       "99  30% off  \n",
       "\n",
       "[100 rows x 4 columns]"
      ]
     },
     "execution_count": 227,
     "metadata": {},
     "output_type": "execute_result"
    }
   ],
   "source": [
    "data = pd.DataFrame()\n",
    "data['Brand'] = brands\n",
    "data['Description'] = dis\n",
    "data['Price'] = price\n",
    "data['Discount'] = discount\n",
    "data"
   ]
  },
  {
   "cell_type": "markdown",
   "id": "5dc16900",
   "metadata": {},
   "source": [
    "# Q5: Scrape 100 reviews data from flipkart.com for iphone11 phone.\n",
    "## This task will be done in following steps:\n",
    "## 1. First get the webpage https://www.flipkart.com/\n",
    "## 2. Enter “iphone 11” in “Search” field .\n",
    "## 3. Then click the search button.\n",
    "## As shown in the above page you have to scrape the tick marked attributes.These are:\n",
    "## 1. Rating\n",
    "## 2. Review summary\n",
    "## 3. Full review\n",
    "## 4. You have to scrape this data for first 100 reviews."
   ]
  },
  {
   "cell_type": "code",
   "execution_count": 97,
   "id": "f913fcf6",
   "metadata": {},
   "outputs": [],
   "source": [
    "import selenium\n",
    "from selenium import webdriver\n",
    "from selenium.webdriver.common.by import By\n",
    "import pandas as pd\n",
    "import warnings\n",
    "warnings.filterwarnings('ignore')"
   ]
  },
  {
   "cell_type": "code",
   "execution_count": 98,
   "id": "dc6ea796",
   "metadata": {},
   "outputs": [],
   "source": [
    "driver = webdriver.Chrome('chromedriver.exe')"
   ]
  },
  {
   "cell_type": "code",
   "execution_count": 99,
   "id": "0494f095",
   "metadata": {},
   "outputs": [],
   "source": [
    "url = 'https://www.flipkart.com/'\n",
    "driver.get(url)"
   ]
  },
  {
   "cell_type": "code",
   "execution_count": 100,
   "id": "d28e5b47",
   "metadata": {},
   "outputs": [],
   "source": [
    "signup = driver.find_element(By.XPATH,\"/html/body/div[2]/div/div/button\")"
   ]
  },
  {
   "cell_type": "code",
   "execution_count": 101,
   "id": "91301e0a",
   "metadata": {},
   "outputs": [],
   "source": [
    "driver.execute_script(\"arguments[0].click();\", signup)"
   ]
  },
  {
   "cell_type": "code",
   "execution_count": 102,
   "id": "2de7731d",
   "metadata": {},
   "outputs": [],
   "source": [
    "search = driver.find_element(By.XPATH,\"/html/body/div[1]/div/div[1]/div[1]/div[2]/div[2]/form/div/div/input\")"
   ]
  },
  {
   "cell_type": "code",
   "execution_count": 103,
   "id": "2e69d8cb",
   "metadata": {},
   "outputs": [],
   "source": [
    "search.send_keys('iphone 11')"
   ]
  },
  {
   "cell_type": "code",
   "execution_count": 104,
   "id": "66dc040f",
   "metadata": {},
   "outputs": [],
   "source": [
    "search_phone = driver.find_element(By.XPATH,\"/html/body/div[1]/div/div[1]/div[1]/div[2]/div[2]/form/div/button\")"
   ]
  },
  {
   "cell_type": "code",
   "execution_count": 105,
   "id": "44a75bbe",
   "metadata": {},
   "outputs": [],
   "source": [
    "driver.execute_script(\"arguments[0].click();\", search_phone)"
   ]
  },
  {
   "cell_type": "code",
   "execution_count": 106,
   "id": "5decfbd9",
   "metadata": {},
   "outputs": [],
   "source": [
    "iphone = driver.find_element(By.XPATH,\"/html/body/div[1]/div/div[3]/div[1]/div[2]/div[2]/div/div/div/a/div[2]/div[1]/div[1]\")"
   ]
  },
  {
   "cell_type": "code",
   "execution_count": 107,
   "id": "d69cb650",
   "metadata": {},
   "outputs": [],
   "source": [
    "driver.execute_script(\"arguments[0].click();\", iphone)"
   ]
  },
  {
   "cell_type": "code",
   "execution_count": 115,
   "id": "28af6c25",
   "metadata": {},
   "outputs": [
    {
     "ename": "NoSuchElementException",
     "evalue": "Message: no such element: Unable to locate element: {\"method\":\"xpath\",\"selector\":\"/html/body/div[1]/div/div[3]/div[1]/div[2]/div[9]/div[7]/div/a/div/span\"}\n  (Session info: chrome=103.0.5060.114)\nStacktrace:\nBacktrace:\n\tOrdinal0 [0x01016463+2188387]\n\tOrdinal0 [0x00FAE461+1762401]\n\tOrdinal0 [0x00EC3D78+802168]\n\tOrdinal0 [0x00EF1880+989312]\n\tOrdinal0 [0x00EF1B1B+989979]\n\tOrdinal0 [0x00F1E912+1173778]\n\tOrdinal0 [0x00F0C824+1099812]\n\tOrdinal0 [0x00F1CC22+1166370]\n\tOrdinal0 [0x00F0C5F6+1099254]\n\tOrdinal0 [0x00EE6BE0+945120]\n\tOrdinal0 [0x00EE7AD6+948950]\n\tGetHandleVerifier [0x012B71F2+2712546]\n\tGetHandleVerifier [0x012A886D+2652765]\n\tGetHandleVerifier [0x010A002A+520730]\n\tGetHandleVerifier [0x0109EE06+516086]\n\tOrdinal0 [0x00FB468B+1787531]\n\tOrdinal0 [0x00FB8E88+1805960]\n\tOrdinal0 [0x00FB8F75+1806197]\n\tOrdinal0 [0x00FC1DF1+1842673]\n\tBaseThreadInitThunk [0x7553FA29+25]\n\tRtlGetAppContainerNamedObjectPath [0x77557A9E+286]\n\tRtlGetAppContainerNamedObjectPath [0x77557A6E+238]\n",
     "output_type": "error",
     "traceback": [
      "\u001b[1;31m---------------------------------------------------------------------------\u001b[0m",
      "\u001b[1;31mNoSuchElementException\u001b[0m                    Traceback (most recent call last)",
      "\u001b[1;32m~\\AppData\\Local\\Temp/ipykernel_12368/3215852543.py\u001b[0m in \u001b[0;36m<module>\u001b[1;34m\u001b[0m\n\u001b[1;32m----> 1\u001b[1;33m \u001b[0mdisc\u001b[0m \u001b[1;33m=\u001b[0m \u001b[0mdriver\u001b[0m\u001b[1;33m.\u001b[0m\u001b[0mfind_element\u001b[0m\u001b[1;33m(\u001b[0m\u001b[0mBy\u001b[0m\u001b[1;33m.\u001b[0m\u001b[0mXPATH\u001b[0m\u001b[1;33m,\u001b[0m\u001b[1;34m\"/html/body/div[1]/div/div[3]/div[1]/div[2]/div[9]/div[7]/div/a/div/span\"\u001b[0m\u001b[1;33m)\u001b[0m\u001b[1;33m\u001b[0m\u001b[1;33m\u001b[0m\u001b[0m\n\u001b[0m",
      "\u001b[1;32m~\\anaconda3\\lib\\site-packages\\selenium\\webdriver\\remote\\webdriver.py\u001b[0m in \u001b[0;36mfind_element\u001b[1;34m(self, by, value)\u001b[0m\n\u001b[0;32m    855\u001b[0m             \u001b[0mvalue\u001b[0m \u001b[1;33m=\u001b[0m \u001b[1;34m'[name=\"%s\"]'\u001b[0m \u001b[1;33m%\u001b[0m \u001b[0mvalue\u001b[0m\u001b[1;33m\u001b[0m\u001b[1;33m\u001b[0m\u001b[0m\n\u001b[0;32m    856\u001b[0m \u001b[1;33m\u001b[0m\u001b[0m\n\u001b[1;32m--> 857\u001b[1;33m         return self.execute(Command.FIND_ELEMENT, {\n\u001b[0m\u001b[0;32m    858\u001b[0m             \u001b[1;34m'using'\u001b[0m\u001b[1;33m:\u001b[0m \u001b[0mby\u001b[0m\u001b[1;33m,\u001b[0m\u001b[1;33m\u001b[0m\u001b[1;33m\u001b[0m\u001b[0m\n\u001b[0;32m    859\u001b[0m             'value': value})['value']\n",
      "\u001b[1;32m~\\anaconda3\\lib\\site-packages\\selenium\\webdriver\\remote\\webdriver.py\u001b[0m in \u001b[0;36mexecute\u001b[1;34m(self, driver_command, params)\u001b[0m\n\u001b[0;32m    433\u001b[0m         \u001b[0mresponse\u001b[0m \u001b[1;33m=\u001b[0m \u001b[0mself\u001b[0m\u001b[1;33m.\u001b[0m\u001b[0mcommand_executor\u001b[0m\u001b[1;33m.\u001b[0m\u001b[0mexecute\u001b[0m\u001b[1;33m(\u001b[0m\u001b[0mdriver_command\u001b[0m\u001b[1;33m,\u001b[0m \u001b[0mparams\u001b[0m\u001b[1;33m)\u001b[0m\u001b[1;33m\u001b[0m\u001b[1;33m\u001b[0m\u001b[0m\n\u001b[0;32m    434\u001b[0m         \u001b[1;32mif\u001b[0m \u001b[0mresponse\u001b[0m\u001b[1;33m:\u001b[0m\u001b[1;33m\u001b[0m\u001b[1;33m\u001b[0m\u001b[0m\n\u001b[1;32m--> 435\u001b[1;33m             \u001b[0mself\u001b[0m\u001b[1;33m.\u001b[0m\u001b[0merror_handler\u001b[0m\u001b[1;33m.\u001b[0m\u001b[0mcheck_response\u001b[0m\u001b[1;33m(\u001b[0m\u001b[0mresponse\u001b[0m\u001b[1;33m)\u001b[0m\u001b[1;33m\u001b[0m\u001b[1;33m\u001b[0m\u001b[0m\n\u001b[0m\u001b[0;32m    436\u001b[0m             response['value'] = self._unwrap_value(\n\u001b[0;32m    437\u001b[0m                 response.get('value', None))\n",
      "\u001b[1;32m~\\anaconda3\\lib\\site-packages\\selenium\\webdriver\\remote\\errorhandler.py\u001b[0m in \u001b[0;36mcheck_response\u001b[1;34m(self, response)\u001b[0m\n\u001b[0;32m    245\u001b[0m                 \u001b[0malert_text\u001b[0m \u001b[1;33m=\u001b[0m \u001b[0mvalue\u001b[0m\u001b[1;33m[\u001b[0m\u001b[1;34m'alert'\u001b[0m\u001b[1;33m]\u001b[0m\u001b[1;33m.\u001b[0m\u001b[0mget\u001b[0m\u001b[1;33m(\u001b[0m\u001b[1;34m'text'\u001b[0m\u001b[1;33m)\u001b[0m\u001b[1;33m\u001b[0m\u001b[1;33m\u001b[0m\u001b[0m\n\u001b[0;32m    246\u001b[0m             \u001b[1;32mraise\u001b[0m \u001b[0mexception_class\u001b[0m\u001b[1;33m(\u001b[0m\u001b[0mmessage\u001b[0m\u001b[1;33m,\u001b[0m \u001b[0mscreen\u001b[0m\u001b[1;33m,\u001b[0m \u001b[0mstacktrace\u001b[0m\u001b[1;33m,\u001b[0m \u001b[0malert_text\u001b[0m\u001b[1;33m)\u001b[0m  \u001b[1;31m# type: ignore[call-arg]  # mypy is not smart enough here\u001b[0m\u001b[1;33m\u001b[0m\u001b[1;33m\u001b[0m\u001b[0m\n\u001b[1;32m--> 247\u001b[1;33m         \u001b[1;32mraise\u001b[0m \u001b[0mexception_class\u001b[0m\u001b[1;33m(\u001b[0m\u001b[0mmessage\u001b[0m\u001b[1;33m,\u001b[0m \u001b[0mscreen\u001b[0m\u001b[1;33m,\u001b[0m \u001b[0mstacktrace\u001b[0m\u001b[1;33m)\u001b[0m\u001b[1;33m\u001b[0m\u001b[1;33m\u001b[0m\u001b[0m\n\u001b[0m\u001b[0;32m    248\u001b[0m \u001b[1;33m\u001b[0m\u001b[0m\n\u001b[0;32m    249\u001b[0m     \u001b[1;32mdef\u001b[0m \u001b[0m_value_or_default\u001b[0m\u001b[1;33m(\u001b[0m\u001b[0mself\u001b[0m\u001b[1;33m,\u001b[0m \u001b[0mobj\u001b[0m\u001b[1;33m:\u001b[0m \u001b[0mMapping\u001b[0m\u001b[1;33m[\u001b[0m\u001b[0m_KT\u001b[0m\u001b[1;33m,\u001b[0m \u001b[0m_VT\u001b[0m\u001b[1;33m]\u001b[0m\u001b[1;33m,\u001b[0m \u001b[0mkey\u001b[0m\u001b[1;33m:\u001b[0m \u001b[0m_KT\u001b[0m\u001b[1;33m,\u001b[0m \u001b[0mdefault\u001b[0m\u001b[1;33m:\u001b[0m \u001b[0m_VT\u001b[0m\u001b[1;33m)\u001b[0m \u001b[1;33m->\u001b[0m \u001b[0m_VT\u001b[0m\u001b[1;33m:\u001b[0m\u001b[1;33m\u001b[0m\u001b[1;33m\u001b[0m\u001b[0m\n",
      "\u001b[1;31mNoSuchElementException\u001b[0m: Message: no such element: Unable to locate element: {\"method\":\"xpath\",\"selector\":\"/html/body/div[1]/div/div[3]/div[1]/div[2]/div[9]/div[7]/div/a/div/span\"}\n  (Session info: chrome=103.0.5060.114)\nStacktrace:\nBacktrace:\n\tOrdinal0 [0x01016463+2188387]\n\tOrdinal0 [0x00FAE461+1762401]\n\tOrdinal0 [0x00EC3D78+802168]\n\tOrdinal0 [0x00EF1880+989312]\n\tOrdinal0 [0x00EF1B1B+989979]\n\tOrdinal0 [0x00F1E912+1173778]\n\tOrdinal0 [0x00F0C824+1099812]\n\tOrdinal0 [0x00F1CC22+1166370]\n\tOrdinal0 [0x00F0C5F6+1099254]\n\tOrdinal0 [0x00EE6BE0+945120]\n\tOrdinal0 [0x00EE7AD6+948950]\n\tGetHandleVerifier [0x012B71F2+2712546]\n\tGetHandleVerifier [0x012A886D+2652765]\n\tGetHandleVerifier [0x010A002A+520730]\n\tGetHandleVerifier [0x0109EE06+516086]\n\tOrdinal0 [0x00FB468B+1787531]\n\tOrdinal0 [0x00FB8E88+1805960]\n\tOrdinal0 [0x00FB8F75+1806197]\n\tOrdinal0 [0x00FC1DF1+1842673]\n\tBaseThreadInitThunk [0x7553FA29+25]\n\tRtlGetAppContainerNamedObjectPath [0x77557A9E+286]\n\tRtlGetAppContainerNamedObjectPath [0x77557A6E+238]\n"
     ]
    }
   ],
   "source": [
    "disc = driver.find_element(By.XPATH,\"/html/body/div[1]/div/div[3]/div[1]/div[2]/div[9]/div[7]/div/a/div/span\")"
   ]
  },
  {
   "cell_type": "markdown",
   "id": "57346ca2",
   "metadata": {},
   "source": [
    "# Q6: Scrape data for first 100 sneakers you find when you visit flipkart.com and search for “sneakers” in the search field.\n",
    "## You have to scrape 4 attributes of each sneaker:\n",
    "## 1. Brand\n",
    "## 2. Product Description\n",
    "## 3. Price"
   ]
  },
  {
   "cell_type": "code",
   "execution_count": 61,
   "id": "08acbc9d",
   "metadata": {},
   "outputs": [],
   "source": [
    "import selenium\n",
    "from selenium import webdriver\n",
    "from selenium.webdriver.common.by import By\n",
    "import pandas as pd\n",
    "import warnings\n",
    "warnings.filterwarnings('ignore')"
   ]
  },
  {
   "cell_type": "code",
   "execution_count": 62,
   "id": "ca78ff97",
   "metadata": {},
   "outputs": [],
   "source": [
    "driver = webdriver.Chrome('chromedriver.exe')"
   ]
  },
  {
   "cell_type": "code",
   "execution_count": 63,
   "id": "db310365",
   "metadata": {},
   "outputs": [],
   "source": [
    "url = 'https://www.flipkart.com/'\n",
    "driver.get(url)"
   ]
  },
  {
   "cell_type": "code",
   "execution_count": 64,
   "id": "7869aed4",
   "metadata": {},
   "outputs": [],
   "source": [
    "signup = driver.find_element(By.XPATH,\"/html/body/div[2]/div/div/button\")"
   ]
  },
  {
   "cell_type": "code",
   "execution_count": 65,
   "id": "aa14c582",
   "metadata": {},
   "outputs": [],
   "source": [
    "driver.execute_script(\"arguments[0].click();\", signup)"
   ]
  },
  {
   "cell_type": "code",
   "execution_count": 66,
   "id": "9c8d1998",
   "metadata": {},
   "outputs": [],
   "source": [
    "search = driver.find_element(By.XPATH,\"/html/body/div[1]/div/div[1]/div[1]/div[2]/div[2]/form/div/div/input\")"
   ]
  },
  {
   "cell_type": "code",
   "execution_count": 67,
   "id": "8be5f42e",
   "metadata": {},
   "outputs": [],
   "source": [
    "search.send_keys('sneakers')"
   ]
  },
  {
   "cell_type": "code",
   "execution_count": 68,
   "id": "6a871da9",
   "metadata": {},
   "outputs": [],
   "source": [
    "search_snea = driver.find_element(By.XPATH,\"/html/body/div[1]/div/div[1]/div[1]/div[2]/div[2]/form/div/button\")"
   ]
  },
  {
   "cell_type": "code",
   "execution_count": 69,
   "id": "f4dd02e3",
   "metadata": {},
   "outputs": [],
   "source": [
    "driver.execute_script(\"arguments[0].click();\", search_snea)"
   ]
  },
  {
   "cell_type": "code",
   "execution_count": 70,
   "id": "ebca975f",
   "metadata": {},
   "outputs": [
    {
     "data": {
      "text/plain": [
       "40"
      ]
     },
     "execution_count": 70,
     "metadata": {},
     "output_type": "execute_result"
    }
   ],
   "source": [
    "brand_tags = driver.find_elements(By.XPATH,'//div[@class=\"_2WkVRV\"]')\n",
    "brands = []\n",
    "for i in brand_tags:\n",
    "    brands.append(i.text)\n",
    "len(brands)"
   ]
  },
  {
   "cell_type": "code",
   "execution_count": 71,
   "id": "8fbdda14",
   "metadata": {},
   "outputs": [
    {
     "data": {
      "text/plain": [
       "40"
      ]
     },
     "execution_count": 71,
     "metadata": {},
     "output_type": "execute_result"
    }
   ],
   "source": [
    "descrip = driver.find_elements(By.XPATH,'//div[@class=\"_2B099V\"]')\n",
    "dis = []\n",
    "for i in descrip:\n",
    "    dis.append(i.text.split('₹')[0].split('\\n')[1])\n",
    "len(dis)"
   ]
  },
  {
   "cell_type": "code",
   "execution_count": 72,
   "id": "10d2a1f8",
   "metadata": {},
   "outputs": [
    {
     "data": {
      "text/plain": [
       "40"
      ]
     },
     "execution_count": 72,
     "metadata": {},
     "output_type": "execute_result"
    }
   ],
   "source": [
    "prices = driver.find_elements(By.XPATH,'//div[@class=\"_30jeq3\"]')\n",
    "price = []\n",
    "for i in prices:\n",
    "    price.append(i.text)\n",
    "len(price)"
   ]
  },
  {
   "cell_type": "code",
   "execution_count": 73,
   "id": "50b2932d",
   "metadata": {},
   "outputs": [
    {
     "data": {
      "text/plain": [
       "40"
      ]
     },
     "execution_count": 73,
     "metadata": {},
     "output_type": "execute_result"
    }
   ],
   "source": [
    "discounts = driver.find_elements(By.XPATH,'//div[@class=\"_3Ay6Sb\"]')\n",
    "discount = []\n",
    "for i in discounts:\n",
    "    discount.append(i.text)\n",
    "len(discount)"
   ]
  },
  {
   "cell_type": "code",
   "execution_count": 74,
   "id": "ab7cf7cc",
   "metadata": {},
   "outputs": [],
   "source": [
    "next_page = driver.find_element(By.XPATH,\"/html/body/div[1]/div/div[3]/div[1]/div[2]/div[12]/div/div/nav/a[11]\")"
   ]
  },
  {
   "cell_type": "code",
   "execution_count": 75,
   "id": "566fafdc",
   "metadata": {},
   "outputs": [],
   "source": [
    "driver.execute_script(\"arguments[0].click();\", next_page)"
   ]
  },
  {
   "cell_type": "code",
   "execution_count": 76,
   "id": "696cd9da",
   "metadata": {},
   "outputs": [
    {
     "data": {
      "text/plain": [
       "80"
      ]
     },
     "execution_count": 76,
     "metadata": {},
     "output_type": "execute_result"
    }
   ],
   "source": [
    "brand_tags = driver.find_elements(By.XPATH,'//div[@class=\"_2WkVRV\"]')\n",
    "for i in brand_tags:\n",
    "    brands.append(i.text)\n",
    "len(brands)"
   ]
  },
  {
   "cell_type": "code",
   "execution_count": 77,
   "id": "2b09f601",
   "metadata": {},
   "outputs": [
    {
     "data": {
      "text/plain": [
       "80"
      ]
     },
     "execution_count": 77,
     "metadata": {},
     "output_type": "execute_result"
    }
   ],
   "source": [
    "descrip = driver.find_elements(By.XPATH,'//div[@class=\"_2B099V\"]')\n",
    "for i in descrip:\n",
    "    dis.append(i.text.split('₹')[0].split('\\n')[1])\n",
    "len(dis)"
   ]
  },
  {
   "cell_type": "code",
   "execution_count": 78,
   "id": "7387b57c",
   "metadata": {},
   "outputs": [
    {
     "data": {
      "text/plain": [
       "80"
      ]
     },
     "execution_count": 78,
     "metadata": {},
     "output_type": "execute_result"
    }
   ],
   "source": [
    "prices = driver.find_elements(By.XPATH,'//div[@class=\"_30jeq3\"]')\n",
    "for i in prices:\n",
    "    price.append(i.text)\n",
    "len(price)"
   ]
  },
  {
   "cell_type": "code",
   "execution_count": 79,
   "id": "168ca910",
   "metadata": {},
   "outputs": [
    {
     "data": {
      "text/plain": [
       "80"
      ]
     },
     "execution_count": 79,
     "metadata": {},
     "output_type": "execute_result"
    }
   ],
   "source": [
    "discounts = driver.find_elements(By.XPATH,'//div[@class=\"_3Ay6Sb\"]')\n",
    "for i in discounts:\n",
    "    discount.append(i.text)\n",
    "len(discount)"
   ]
  },
  {
   "cell_type": "code",
   "execution_count": 80,
   "id": "f54ac5ff",
   "metadata": {},
   "outputs": [],
   "source": [
    "next_page1 = driver.find_element(By.XPATH,\"/html/body/div[1]/div/div[3]/div[1]/div[2]/div[12]/div/div/nav/a[12]\")"
   ]
  },
  {
   "cell_type": "code",
   "execution_count": 81,
   "id": "42becff2",
   "metadata": {},
   "outputs": [],
   "source": [
    "driver.execute_script(\"arguments[0].click();\", next_page1)"
   ]
  },
  {
   "cell_type": "code",
   "execution_count": 82,
   "id": "207f2471",
   "metadata": {},
   "outputs": [
    {
     "data": {
      "text/plain": [
       "100"
      ]
     },
     "execution_count": 82,
     "metadata": {},
     "output_type": "execute_result"
    }
   ],
   "source": [
    "brand_tags = driver.find_elements(By.XPATH,'//div[@class=\"_2WkVRV\"]')\n",
    "for i in brand_tags:\n",
    "    brands.append(i.text)\n",
    "del brands[100:]\n",
    "len(brands)"
   ]
  },
  {
   "cell_type": "code",
   "execution_count": 83,
   "id": "6d9a0cfe",
   "metadata": {},
   "outputs": [
    {
     "data": {
      "text/plain": [
       "100"
      ]
     },
     "execution_count": 83,
     "metadata": {},
     "output_type": "execute_result"
    }
   ],
   "source": [
    "descrip = driver.find_elements(By.XPATH,'//a[@class=\"IRpwTa\"]')\n",
    "for i in descrip:\n",
    "    dis.append(i.text)\n",
    "del dis[100:]\n",
    "len(dis)"
   ]
  },
  {
   "cell_type": "code",
   "execution_count": 84,
   "id": "e9fc7270",
   "metadata": {},
   "outputs": [
    {
     "data": {
      "text/plain": [
       "100"
      ]
     },
     "execution_count": 84,
     "metadata": {},
     "output_type": "execute_result"
    }
   ],
   "source": [
    "prices = driver.find_elements(By.XPATH,'//div[@class=\"_30jeq3\"]')\n",
    "for i in prices:\n",
    "    price.append(i.text)\n",
    "del price[100:]\n",
    "len(price)"
   ]
  },
  {
   "cell_type": "code",
   "execution_count": 85,
   "id": "1170fd0e",
   "metadata": {},
   "outputs": [
    {
     "data": {
      "text/plain": [
       "100"
      ]
     },
     "execution_count": 85,
     "metadata": {},
     "output_type": "execute_result"
    }
   ],
   "source": [
    "discounts = driver.find_elements(By.XPATH,'//div[@class=\"_3Ay6Sb\"]')\n",
    "for i in discounts:\n",
    "    discount.append(i.text)\n",
    "del discount[100:]\n",
    "len(discount)"
   ]
  },
  {
   "cell_type": "code",
   "execution_count": 86,
   "id": "b22eb0ad",
   "metadata": {},
   "outputs": [
    {
     "data": {
      "text/html": [
       "<div>\n",
       "<style scoped>\n",
       "    .dataframe tbody tr th:only-of-type {\n",
       "        vertical-align: middle;\n",
       "    }\n",
       "\n",
       "    .dataframe tbody tr th {\n",
       "        vertical-align: top;\n",
       "    }\n",
       "\n",
       "    .dataframe thead th {\n",
       "        text-align: right;\n",
       "    }\n",
       "</style>\n",
       "<table border=\"1\" class=\"dataframe\">\n",
       "  <thead>\n",
       "    <tr style=\"text-align: right;\">\n",
       "      <th></th>\n",
       "      <th>Brand</th>\n",
       "      <th>Description</th>\n",
       "      <th>Price</th>\n",
       "      <th>Discount</th>\n",
       "    </tr>\n",
       "  </thead>\n",
       "  <tbody>\n",
       "    <tr>\n",
       "      <th>0</th>\n",
       "      <td>World Wear Footwear</td>\n",
       "      <td>Trendy Stylish Comfortable &amp; Lightweight, Casu...</td>\n",
       "      <td>₹652</td>\n",
       "      <td>34% off</td>\n",
       "    </tr>\n",
       "    <tr>\n",
       "      <th>1</th>\n",
       "      <td>luxury fashion</td>\n",
       "      <td>luxury fashionable casual sneaker shoes Sneake...</td>\n",
       "      <td>₹499</td>\n",
       "      <td>61% off</td>\n",
       "    </tr>\n",
       "    <tr>\n",
       "      <th>2</th>\n",
       "      <td>WOODLAND</td>\n",
       "      <td>Sneakers For Men</td>\n",
       "      <td>₹2,096</td>\n",
       "      <td>30% off</td>\n",
       "    </tr>\n",
       "    <tr>\n",
       "      <th>3</th>\n",
       "      <td>BRUTON</td>\n",
       "      <td>Modern Trendy Sneakers Shoes Sneakers For Men</td>\n",
       "      <td>₹284</td>\n",
       "      <td>78% off</td>\n",
       "    </tr>\n",
       "    <tr>\n",
       "      <th>4</th>\n",
       "      <td>Magnolia</td>\n",
       "      <td>Sneakers For Men</td>\n",
       "      <td>₹449</td>\n",
       "      <td>55% off</td>\n",
       "    </tr>\n",
       "    <tr>\n",
       "      <th>...</th>\n",
       "      <td>...</td>\n",
       "      <td>...</td>\n",
       "      <td>...</td>\n",
       "      <td>...</td>\n",
       "    </tr>\n",
       "    <tr>\n",
       "      <th>95</th>\n",
       "      <td>Numenzo</td>\n",
       "      <td>Sneakers For Men</td>\n",
       "      <td>₹494</td>\n",
       "      <td>61% off</td>\n",
       "    </tr>\n",
       "    <tr>\n",
       "      <th>96</th>\n",
       "      <td>PUMA</td>\n",
       "      <td>Trinity Sneakers For Men</td>\n",
       "      <td>₹2,007</td>\n",
       "      <td>33% off</td>\n",
       "    </tr>\n",
       "    <tr>\n",
       "      <th>97</th>\n",
       "      <td>Roadster</td>\n",
       "      <td>Stylish Party Wear Casual Sneakers Shoes For M...</td>\n",
       "      <td>₹1,135</td>\n",
       "      <td>65% off</td>\n",
       "    </tr>\n",
       "    <tr>\n",
       "      <th>98</th>\n",
       "      <td>URBANBOX</td>\n",
       "      <td>Sneakers For Men</td>\n",
       "      <td>₹179</td>\n",
       "      <td>64% off</td>\n",
       "    </tr>\n",
       "    <tr>\n",
       "      <th>99</th>\n",
       "      <td>Scull Wings</td>\n",
       "      <td>Casual Sneakers White Shoes For Men Sneakers F...</td>\n",
       "      <td>₹496</td>\n",
       "      <td>61% off</td>\n",
       "    </tr>\n",
       "  </tbody>\n",
       "</table>\n",
       "<p>100 rows × 4 columns</p>\n",
       "</div>"
      ],
      "text/plain": [
       "                  Brand                                        Description  \\\n",
       "0   World Wear Footwear  Trendy Stylish Comfortable & Lightweight, Casu...   \n",
       "1        luxury fashion  luxury fashionable casual sneaker shoes Sneake...   \n",
       "2              WOODLAND                                   Sneakers For Men   \n",
       "3                BRUTON      Modern Trendy Sneakers Shoes Sneakers For Men   \n",
       "4              Magnolia                                   Sneakers For Men   \n",
       "..                  ...                                                ...   \n",
       "95              Numenzo                                   Sneakers For Men   \n",
       "96                 PUMA                           Trinity Sneakers For Men   \n",
       "97             Roadster  Stylish Party Wear Casual Sneakers Shoes For M...   \n",
       "98             URBANBOX                                   Sneakers For Men   \n",
       "99          Scull Wings  Casual Sneakers White Shoes For Men Sneakers F...   \n",
       "\n",
       "     Price Discount  \n",
       "0     ₹652  34% off  \n",
       "1     ₹499  61% off  \n",
       "2   ₹2,096  30% off  \n",
       "3     ₹284  78% off  \n",
       "4     ₹449  55% off  \n",
       "..     ...      ...  \n",
       "95    ₹494  61% off  \n",
       "96  ₹2,007  33% off  \n",
       "97  ₹1,135  65% off  \n",
       "98    ₹179  64% off  \n",
       "99    ₹496  61% off  \n",
       "\n",
       "[100 rows x 4 columns]"
      ]
     },
     "execution_count": 86,
     "metadata": {},
     "output_type": "execute_result"
    }
   ],
   "source": [
    "data = pd.DataFrame()\n",
    "data['Brand'] = brands\n",
    "data['Description'] = dis\n",
    "data['Price'] = price\n",
    "data['Discount'] = discount\n",
    "data"
   ]
  },
  {
   "cell_type": "markdown",
   "id": "4d62a645",
   "metadata": {},
   "source": [
    "# Q7: Go to the link - https://www.myntra.com/shoes\n",
    "## Set second Price filter and Color filter to “Black”, as shown in the below image.\n",
    "## And then scrape First 100 shoes data you get. The data should include “Brand” of the shoes , Short Shoe description, price of the shoe as shown in the below image."
   ]
  },
  {
   "cell_type": "code",
   "execution_count": 116,
   "id": "b2f8d21f",
   "metadata": {},
   "outputs": [],
   "source": [
    "import selenium\n",
    "from selenium import webdriver\n",
    "from selenium.webdriver.common.by import By\n",
    "import pandas as pd\n",
    "import warnings\n",
    "warnings.filterwarnings('ignore')"
   ]
  },
  {
   "cell_type": "code",
   "execution_count": 117,
   "id": "5ed0467e",
   "metadata": {},
   "outputs": [],
   "source": [
    "driver = webdriver.Chrome('chromedriver.exe')"
   ]
  },
  {
   "cell_type": "code",
   "execution_count": 118,
   "id": "e4f162db",
   "metadata": {},
   "outputs": [],
   "source": [
    "url = 'https://www.myntra.com/shoes'\n",
    "driver.get(url)"
   ]
  },
  {
   "cell_type": "markdown",
   "id": "599ab6e2",
   "metadata": {},
   "source": [
    "# Q8: Go to webpage https://www.amazon.in/\n",
    "## Enter “Laptop” in the search field and then click the search icon.\n",
    "## Then set CPU Type filter to “Intel Core i7” as shown in the below image:\n",
    "## After setting the filters scrape first 10 laptops data. You have to scrape 3 attributesfor each laptop:\n",
    "## 1. Title\n",
    "## 2. Ratings\n",
    "## 3. Price"
   ]
  },
  {
   "cell_type": "code",
   "execution_count": 139,
   "id": "d219922d",
   "metadata": {},
   "outputs": [],
   "source": [
    "import selenium\n",
    "from selenium import webdriver\n",
    "from selenium.webdriver.common.by import By\n",
    "import pandas as pd\n",
    "import warnings\n",
    "warnings.filterwarnings('ignore')"
   ]
  },
  {
   "cell_type": "code",
   "execution_count": 140,
   "id": "8f5bfaac",
   "metadata": {},
   "outputs": [],
   "source": [
    "driver = webdriver.Chrome('chromedriver.exe')"
   ]
  },
  {
   "cell_type": "code",
   "execution_count": 141,
   "id": "cbfefd86",
   "metadata": {},
   "outputs": [],
   "source": [
    "url = 'https://www.amazon.in/'\n",
    "driver.get(url)"
   ]
  },
  {
   "cell_type": "code",
   "execution_count": 142,
   "id": "4cd7b323",
   "metadata": {},
   "outputs": [],
   "source": [
    "search = driver.find_element(By.XPATH,\"/html/body/div[1]/header/div/div[1]/div[2]/div/form/div[2]/div[1]/input\")"
   ]
  },
  {
   "cell_type": "code",
   "execution_count": 143,
   "id": "6e34c679",
   "metadata": {},
   "outputs": [],
   "source": [
    "search.send_keys('Laptop')"
   ]
  },
  {
   "cell_type": "code",
   "execution_count": 144,
   "id": "c47764e1",
   "metadata": {},
   "outputs": [],
   "source": [
    "search_btn = driver.find_element(By.XPATH,\"/html/body/div[1]/header/div/div[1]/div[2]/div/form/div[3]/div/span/input\")"
   ]
  },
  {
   "cell_type": "code",
   "execution_count": 145,
   "id": "6778b6a8",
   "metadata": {},
   "outputs": [],
   "source": [
    "driver.execute_script(\"arguments[0].click();\", search_btn)"
   ]
  },
  {
   "cell_type": "code",
   "execution_count": 146,
   "id": "055b3dbc",
   "metadata": {},
   "outputs": [],
   "source": [
    "search_i7 = driver.find_element(By.XPATH,\"/html/body/div[1]/div[2]/div[1]/div[2]/div/div[3]/span/div[1]/div/div/div[5]/ul[2]/li[14]/span/a/span\")"
   ]
  },
  {
   "cell_type": "code",
   "execution_count": 147,
   "id": "e5799330",
   "metadata": {},
   "outputs": [],
   "source": [
    "driver.execute_script(\"arguments[0].click();\", search_i7)"
   ]
  },
  {
   "cell_type": "code",
   "execution_count": 148,
   "id": "86114273",
   "metadata": {},
   "outputs": [
    {
     "data": {
      "text/plain": [
       "10"
      ]
     },
     "execution_count": 148,
     "metadata": {},
     "output_type": "execute_result"
    }
   ],
   "source": [
    "laptop = driver.find_elements(By.XPATH,'//span[@class=\"a-size-medium a-color-base a-text-normal\"]')\n",
    "laptops = []\n",
    "for i in laptop:\n",
    "    laptops.append(i.text)\n",
    "del laptops[10:]\n",
    "len(laptops)"
   ]
  },
  {
   "cell_type": "code",
   "execution_count": 150,
   "id": "a257c8c9",
   "metadata": {},
   "outputs": [
    {
     "data": {
      "text/plain": [
       "10"
      ]
     },
     "execution_count": 150,
     "metadata": {},
     "output_type": "execute_result"
    }
   ],
   "source": [
    "price = driver.find_elements(By.XPATH,'//span[@class=\"a-price-whole\"]')\n",
    "prices = []\n",
    "for i in price:\n",
    "    prices.append(i.text)\n",
    "del prices[10:]\n",
    "len(prices)"
   ]
  },
  {
   "cell_type": "code",
   "execution_count": 151,
   "id": "3eea08fe",
   "metadata": {},
   "outputs": [
    {
     "data": {
      "text/html": [
       "<div>\n",
       "<style scoped>\n",
       "    .dataframe tbody tr th:only-of-type {\n",
       "        vertical-align: middle;\n",
       "    }\n",
       "\n",
       "    .dataframe tbody tr th {\n",
       "        vertical-align: top;\n",
       "    }\n",
       "\n",
       "    .dataframe thead th {\n",
       "        text-align: right;\n",
       "    }\n",
       "</style>\n",
       "<table border=\"1\" class=\"dataframe\">\n",
       "  <thead>\n",
       "    <tr style=\"text-align: right;\">\n",
       "      <th></th>\n",
       "      <th>Laptop Name</th>\n",
       "      <th>Price</th>\n",
       "    </tr>\n",
       "  </thead>\n",
       "  <tbody>\n",
       "    <tr>\n",
       "      <th>0</th>\n",
       "      <td>ASUS TUF Gaming F15 (2021), 15.6\" (39.62 cms) ...</td>\n",
       "      <td>89,990</td>\n",
       "    </tr>\n",
       "    <tr>\n",
       "      <th>1</th>\n",
       "      <td>ASUS Vivobook 15, 15.6-inch (39.62 cms) FHD, I...</td>\n",
       "      <td>57,890</td>\n",
       "    </tr>\n",
       "    <tr>\n",
       "      <th>2</th>\n",
       "      <td>Infinix INBook X1 Pro Core i7 10th Gen - (16 G...</td>\n",
       "      <td>53,999</td>\n",
       "    </tr>\n",
       "    <tr>\n",
       "      <th>3</th>\n",
       "      <td>Lenovo IdeaPad Slim 5 Pro Intel Core i7 11th G...</td>\n",
       "      <td>75,990</td>\n",
       "    </tr>\n",
       "    <tr>\n",
       "      <th>4</th>\n",
       "      <td>Hp Pavilion 15 12Th Gen Intel Core I7 16Gb Sdr...</td>\n",
       "      <td>87,900</td>\n",
       "    </tr>\n",
       "    <tr>\n",
       "      <th>5</th>\n",
       "      <td>ASUS Zenbook 14 OLED (2022), 14\" (35.56 cms) 2...</td>\n",
       "      <td>1,07,794</td>\n",
       "    </tr>\n",
       "    <tr>\n",
       "      <th>6</th>\n",
       "      <td>Mi Notebook Horizon Edition 14 Intel Core i7-1...</td>\n",
       "      <td>58,950</td>\n",
       "    </tr>\n",
       "    <tr>\n",
       "      <th>7</th>\n",
       "      <td>Lenovo ThinkPad E14 Intel Core i7 11th Gen 14-...</td>\n",
       "      <td>94,990</td>\n",
       "    </tr>\n",
       "    <tr>\n",
       "      <th>8</th>\n",
       "      <td>Hp Pavilion X360 11Th Gen Intel Core I7 14 Inc...</td>\n",
       "      <td>82,990</td>\n",
       "    </tr>\n",
       "    <tr>\n",
       "      <th>9</th>\n",
       "      <td>Hp Pavilion 14, 11Th Gen Intel Core I7-16Gb Ra...</td>\n",
       "      <td>91,900</td>\n",
       "    </tr>\n",
       "  </tbody>\n",
       "</table>\n",
       "</div>"
      ],
      "text/plain": [
       "                                         Laptop Name     Price\n",
       "0  ASUS TUF Gaming F15 (2021), 15.6\" (39.62 cms) ...    89,990\n",
       "1  ASUS Vivobook 15, 15.6-inch (39.62 cms) FHD, I...    57,890\n",
       "2  Infinix INBook X1 Pro Core i7 10th Gen - (16 G...    53,999\n",
       "3  Lenovo IdeaPad Slim 5 Pro Intel Core i7 11th G...    75,990\n",
       "4  Hp Pavilion 15 12Th Gen Intel Core I7 16Gb Sdr...    87,900\n",
       "5  ASUS Zenbook 14 OLED (2022), 14\" (35.56 cms) 2...  1,07,794\n",
       "6  Mi Notebook Horizon Edition 14 Intel Core i7-1...    58,950\n",
       "7  Lenovo ThinkPad E14 Intel Core i7 11th Gen 14-...    94,990\n",
       "8  Hp Pavilion X360 11Th Gen Intel Core I7 14 Inc...    82,990\n",
       "9  Hp Pavilion 14, 11Th Gen Intel Core I7-16Gb Ra...    91,900"
      ]
     },
     "execution_count": 151,
     "metadata": {},
     "output_type": "execute_result"
    }
   ],
   "source": [
    "data = pd.DataFrame()\n",
    "data['Laptop Name'] = laptops\n",
    "data['Price'] = prices\n",
    "data"
   ]
  },
  {
   "cell_type": "markdown",
   "id": "6bd19542",
   "metadata": {},
   "source": [
    "# Q9: Write a python program to scrape data for first 10 job results for Data Scientist Designation in Noida location. You have to scrape company name, No. of days ago when job was posted, Rating of the company.\n",
    "## This task will be done in following steps:\n",
    "## 1. First get the webpage https://www.ambitionbox.com/\n",
    "## 2. Click on the Job option as shown in the image\n",
    "## 3. After reaching to the next webpage, In place of “Search by Designations, Companies, Skills” enter “Data Scientist” and click on search button.\n",
    "## 4. You will reach to the following web page click on location and in place of “Search location” enter “Noida” and select location “Noida”.\n",
    "## 5. Then scrape the data for the first 10 jobs results you get on the above shown page.\n",
    "## 6. Finally create a dataframe of the scraped data."
   ]
  },
  {
   "cell_type": "code",
   "execution_count": 253,
   "id": "0dfd347a",
   "metadata": {},
   "outputs": [],
   "source": [
    "import selenium\n",
    "from selenium import webdriver\n",
    "from selenium.webdriver.common.by import By\n",
    "import pandas as pd\n",
    "import warnings\n",
    "warnings.filterwarnings('ignore')"
   ]
  },
  {
   "cell_type": "code",
   "execution_count": 254,
   "id": "68c33df0",
   "metadata": {},
   "outputs": [],
   "source": [
    "driver = webdriver.Chrome('chromedriver.exe')"
   ]
  },
  {
   "cell_type": "code",
   "execution_count": 255,
   "id": "eb332f72",
   "metadata": {},
   "outputs": [],
   "source": [
    "url = 'https://www.ambitionbox.com/'\n",
    "driver.get(url)"
   ]
  },
  {
   "cell_type": "code",
   "execution_count": 260,
   "id": "7e688947",
   "metadata": {},
   "outputs": [
    {
     "ename": "NoSuchElementException",
     "evalue": "Message: no such element: Unable to locate element: {\"method\":\"xpath\",\"selector\":\"/html/body/div[1]/nav/nav/a[6]\"}\n  (Session info: chrome=103.0.5060.114)\nStacktrace:\nBacktrace:\n\tOrdinal0 [0x01016463+2188387]\n\tOrdinal0 [0x00FAE461+1762401]\n\tOrdinal0 [0x00EC3D78+802168]\n\tOrdinal0 [0x00EF1880+989312]\n\tOrdinal0 [0x00EF1B1B+989979]\n\tOrdinal0 [0x00F1E912+1173778]\n\tOrdinal0 [0x00F0C824+1099812]\n\tOrdinal0 [0x00F1CC22+1166370]\n\tOrdinal0 [0x00F0C5F6+1099254]\n\tOrdinal0 [0x00EE6BE0+945120]\n\tOrdinal0 [0x00EE7AD6+948950]\n\tGetHandleVerifier [0x012B71F2+2712546]\n\tGetHandleVerifier [0x012A886D+2652765]\n\tGetHandleVerifier [0x010A002A+520730]\n\tGetHandleVerifier [0x0109EE06+516086]\n\tOrdinal0 [0x00FB468B+1787531]\n\tOrdinal0 [0x00FB8E88+1805960]\n\tOrdinal0 [0x00FB8F75+1806197]\n\tOrdinal0 [0x00FC1DF1+1842673]\n\tBaseThreadInitThunk [0x7553FA29+25]\n\tRtlGetAppContainerNamedObjectPath [0x77557A9E+286]\n\tRtlGetAppContainerNamedObjectPath [0x77557A6E+238]\n",
     "output_type": "error",
     "traceback": [
      "\u001b[1;31m---------------------------------------------------------------------------\u001b[0m",
      "\u001b[1;31mNoSuchElementException\u001b[0m                    Traceback (most recent call last)",
      "\u001b[1;32m~\\AppData\\Local\\Temp/ipykernel_12368/533878943.py\u001b[0m in \u001b[0;36m<module>\u001b[1;34m\u001b[0m\n\u001b[1;32m----> 1\u001b[1;33m \u001b[0mjob\u001b[0m \u001b[1;33m=\u001b[0m \u001b[0mdriver\u001b[0m\u001b[1;33m.\u001b[0m\u001b[0mfind_element\u001b[0m\u001b[1;33m(\u001b[0m\u001b[0mBy\u001b[0m\u001b[1;33m.\u001b[0m\u001b[0mXPATH\u001b[0m\u001b[1;33m,\u001b[0m\u001b[1;34m\"/html/body/div[1]/nav/nav/a[6]\"\u001b[0m\u001b[1;33m)\u001b[0m\u001b[1;33m\u001b[0m\u001b[1;33m\u001b[0m\u001b[0m\n\u001b[0m",
      "\u001b[1;32m~\\anaconda3\\lib\\site-packages\\selenium\\webdriver\\remote\\webdriver.py\u001b[0m in \u001b[0;36mfind_element\u001b[1;34m(self, by, value)\u001b[0m\n\u001b[0;32m    855\u001b[0m             \u001b[0mvalue\u001b[0m \u001b[1;33m=\u001b[0m \u001b[1;34m'[name=\"%s\"]'\u001b[0m \u001b[1;33m%\u001b[0m \u001b[0mvalue\u001b[0m\u001b[1;33m\u001b[0m\u001b[1;33m\u001b[0m\u001b[0m\n\u001b[0;32m    856\u001b[0m \u001b[1;33m\u001b[0m\u001b[0m\n\u001b[1;32m--> 857\u001b[1;33m         return self.execute(Command.FIND_ELEMENT, {\n\u001b[0m\u001b[0;32m    858\u001b[0m             \u001b[1;34m'using'\u001b[0m\u001b[1;33m:\u001b[0m \u001b[0mby\u001b[0m\u001b[1;33m,\u001b[0m\u001b[1;33m\u001b[0m\u001b[1;33m\u001b[0m\u001b[0m\n\u001b[0;32m    859\u001b[0m             'value': value})['value']\n",
      "\u001b[1;32m~\\anaconda3\\lib\\site-packages\\selenium\\webdriver\\remote\\webdriver.py\u001b[0m in \u001b[0;36mexecute\u001b[1;34m(self, driver_command, params)\u001b[0m\n\u001b[0;32m    433\u001b[0m         \u001b[0mresponse\u001b[0m \u001b[1;33m=\u001b[0m \u001b[0mself\u001b[0m\u001b[1;33m.\u001b[0m\u001b[0mcommand_executor\u001b[0m\u001b[1;33m.\u001b[0m\u001b[0mexecute\u001b[0m\u001b[1;33m(\u001b[0m\u001b[0mdriver_command\u001b[0m\u001b[1;33m,\u001b[0m \u001b[0mparams\u001b[0m\u001b[1;33m)\u001b[0m\u001b[1;33m\u001b[0m\u001b[1;33m\u001b[0m\u001b[0m\n\u001b[0;32m    434\u001b[0m         \u001b[1;32mif\u001b[0m \u001b[0mresponse\u001b[0m\u001b[1;33m:\u001b[0m\u001b[1;33m\u001b[0m\u001b[1;33m\u001b[0m\u001b[0m\n\u001b[1;32m--> 435\u001b[1;33m             \u001b[0mself\u001b[0m\u001b[1;33m.\u001b[0m\u001b[0merror_handler\u001b[0m\u001b[1;33m.\u001b[0m\u001b[0mcheck_response\u001b[0m\u001b[1;33m(\u001b[0m\u001b[0mresponse\u001b[0m\u001b[1;33m)\u001b[0m\u001b[1;33m\u001b[0m\u001b[1;33m\u001b[0m\u001b[0m\n\u001b[0m\u001b[0;32m    436\u001b[0m             response['value'] = self._unwrap_value(\n\u001b[0;32m    437\u001b[0m                 response.get('value', None))\n",
      "\u001b[1;32m~\\anaconda3\\lib\\site-packages\\selenium\\webdriver\\remote\\errorhandler.py\u001b[0m in \u001b[0;36mcheck_response\u001b[1;34m(self, response)\u001b[0m\n\u001b[0;32m    245\u001b[0m                 \u001b[0malert_text\u001b[0m \u001b[1;33m=\u001b[0m \u001b[0mvalue\u001b[0m\u001b[1;33m[\u001b[0m\u001b[1;34m'alert'\u001b[0m\u001b[1;33m]\u001b[0m\u001b[1;33m.\u001b[0m\u001b[0mget\u001b[0m\u001b[1;33m(\u001b[0m\u001b[1;34m'text'\u001b[0m\u001b[1;33m)\u001b[0m\u001b[1;33m\u001b[0m\u001b[1;33m\u001b[0m\u001b[0m\n\u001b[0;32m    246\u001b[0m             \u001b[1;32mraise\u001b[0m \u001b[0mexception_class\u001b[0m\u001b[1;33m(\u001b[0m\u001b[0mmessage\u001b[0m\u001b[1;33m,\u001b[0m \u001b[0mscreen\u001b[0m\u001b[1;33m,\u001b[0m \u001b[0mstacktrace\u001b[0m\u001b[1;33m,\u001b[0m \u001b[0malert_text\u001b[0m\u001b[1;33m)\u001b[0m  \u001b[1;31m# type: ignore[call-arg]  # mypy is not smart enough here\u001b[0m\u001b[1;33m\u001b[0m\u001b[1;33m\u001b[0m\u001b[0m\n\u001b[1;32m--> 247\u001b[1;33m         \u001b[1;32mraise\u001b[0m \u001b[0mexception_class\u001b[0m\u001b[1;33m(\u001b[0m\u001b[0mmessage\u001b[0m\u001b[1;33m,\u001b[0m \u001b[0mscreen\u001b[0m\u001b[1;33m,\u001b[0m \u001b[0mstacktrace\u001b[0m\u001b[1;33m)\u001b[0m\u001b[1;33m\u001b[0m\u001b[1;33m\u001b[0m\u001b[0m\n\u001b[0m\u001b[0;32m    248\u001b[0m \u001b[1;33m\u001b[0m\u001b[0m\n\u001b[0;32m    249\u001b[0m     \u001b[1;32mdef\u001b[0m \u001b[0m_value_or_default\u001b[0m\u001b[1;33m(\u001b[0m\u001b[0mself\u001b[0m\u001b[1;33m,\u001b[0m \u001b[0mobj\u001b[0m\u001b[1;33m:\u001b[0m \u001b[0mMapping\u001b[0m\u001b[1;33m[\u001b[0m\u001b[0m_KT\u001b[0m\u001b[1;33m,\u001b[0m \u001b[0m_VT\u001b[0m\u001b[1;33m]\u001b[0m\u001b[1;33m,\u001b[0m \u001b[0mkey\u001b[0m\u001b[1;33m:\u001b[0m \u001b[0m_KT\u001b[0m\u001b[1;33m,\u001b[0m \u001b[0mdefault\u001b[0m\u001b[1;33m:\u001b[0m \u001b[0m_VT\u001b[0m\u001b[1;33m)\u001b[0m \u001b[1;33m->\u001b[0m \u001b[0m_VT\u001b[0m\u001b[1;33m:\u001b[0m\u001b[1;33m\u001b[0m\u001b[1;33m\u001b[0m\u001b[0m\n",
      "\u001b[1;31mNoSuchElementException\u001b[0m: Message: no such element: Unable to locate element: {\"method\":\"xpath\",\"selector\":\"/html/body/div[1]/nav/nav/a[6]\"}\n  (Session info: chrome=103.0.5060.114)\nStacktrace:\nBacktrace:\n\tOrdinal0 [0x01016463+2188387]\n\tOrdinal0 [0x00FAE461+1762401]\n\tOrdinal0 [0x00EC3D78+802168]\n\tOrdinal0 [0x00EF1880+989312]\n\tOrdinal0 [0x00EF1B1B+989979]\n\tOrdinal0 [0x00F1E912+1173778]\n\tOrdinal0 [0x00F0C824+1099812]\n\tOrdinal0 [0x00F1CC22+1166370]\n\tOrdinal0 [0x00F0C5F6+1099254]\n\tOrdinal0 [0x00EE6BE0+945120]\n\tOrdinal0 [0x00EE7AD6+948950]\n\tGetHandleVerifier [0x012B71F2+2712546]\n\tGetHandleVerifier [0x012A886D+2652765]\n\tGetHandleVerifier [0x010A002A+520730]\n\tGetHandleVerifier [0x0109EE06+516086]\n\tOrdinal0 [0x00FB468B+1787531]\n\tOrdinal0 [0x00FB8E88+1805960]\n\tOrdinal0 [0x00FB8F75+1806197]\n\tOrdinal0 [0x00FC1DF1+1842673]\n\tBaseThreadInitThunk [0x7553FA29+25]\n\tRtlGetAppContainerNamedObjectPath [0x77557A9E+286]\n\tRtlGetAppContainerNamedObjectPath [0x77557A6E+238]\n"
     ]
    }
   ],
   "source": [
    "job = driver.find_element(By.XPATH,\"/html/body/div[1]/nav/nav/a[6]\")"
   ]
  },
  {
   "cell_type": "code",
   "execution_count": 258,
   "id": "edd92911",
   "metadata": {},
   "outputs": [
    {
     "ename": "StaleElementReferenceException",
     "evalue": "Message: stale element reference: element is not attached to the page document\n  (Session info: chrome=103.0.5060.114)\nStacktrace:\nBacktrace:\n\tOrdinal0 [0x01016463+2188387]\n\tOrdinal0 [0x00FAE461+1762401]\n\tOrdinal0 [0x00EC3D78+802168]\n\tOrdinal0 [0x00EC6754+812884]\n\tOrdinal0 [0x00EC6612+812562]\n\tOrdinal0 [0x00EC6F8A+814986]\n\tOrdinal0 [0x00F1D669+1169001]\n\tOrdinal0 [0x00F0C7DC+1099740]\n\tOrdinal0 [0x00F1CC22+1166370]\n\tOrdinal0 [0x00F0C5F6+1099254]\n\tOrdinal0 [0x00EE6BE0+945120]\n\tOrdinal0 [0x00EE7AD6+948950]\n\tGetHandleVerifier [0x012B71F2+2712546]\n\tGetHandleVerifier [0x012A886D+2652765]\n\tGetHandleVerifier [0x010A002A+520730]\n\tGetHandleVerifier [0x0109EE06+516086]\n\tOrdinal0 [0x00FB468B+1787531]\n\tOrdinal0 [0x00FB8E88+1805960]\n\tOrdinal0 [0x00FB8F75+1806197]\n\tOrdinal0 [0x00FC1DF1+1842673]\n\tBaseThreadInitThunk [0x7553FA29+25]\n\tRtlGetAppContainerNamedObjectPath [0x77557A9E+286]\n\tRtlGetAppContainerNamedObjectPath [0x77557A6E+238]\n",
     "output_type": "error",
     "traceback": [
      "\u001b[1;31m---------------------------------------------------------------------------\u001b[0m",
      "\u001b[1;31mStaleElementReferenceException\u001b[0m            Traceback (most recent call last)",
      "\u001b[1;32m~\\AppData\\Local\\Temp/ipykernel_12368/272873420.py\u001b[0m in \u001b[0;36m<module>\u001b[1;34m\u001b[0m\n\u001b[1;32m----> 1\u001b[1;33m \u001b[0mdriver\u001b[0m\u001b[1;33m.\u001b[0m\u001b[0mexecute_script\u001b[0m\u001b[1;33m(\u001b[0m\u001b[1;34m\"arguments[0].click();\"\u001b[0m\u001b[1;33m,\u001b[0m \u001b[0mjob\u001b[0m\u001b[1;33m)\u001b[0m\u001b[1;33m\u001b[0m\u001b[1;33m\u001b[0m\u001b[0m\n\u001b[0m",
      "\u001b[1;32m~\\anaconda3\\lib\\site-packages\\selenium\\webdriver\\remote\\webdriver.py\u001b[0m in \u001b[0;36mexecute_script\u001b[1;34m(self, script, *args)\u001b[0m\n\u001b[0;32m    491\u001b[0m         \u001b[0mcommand\u001b[0m \u001b[1;33m=\u001b[0m \u001b[0mCommand\u001b[0m\u001b[1;33m.\u001b[0m\u001b[0mW3C_EXECUTE_SCRIPT\u001b[0m\u001b[1;33m\u001b[0m\u001b[1;33m\u001b[0m\u001b[0m\n\u001b[0;32m    492\u001b[0m \u001b[1;33m\u001b[0m\u001b[0m\n\u001b[1;32m--> 493\u001b[1;33m         return self.execute(command, {\n\u001b[0m\u001b[0;32m    494\u001b[0m             \u001b[1;34m'script'\u001b[0m\u001b[1;33m:\u001b[0m \u001b[0mscript\u001b[0m\u001b[1;33m,\u001b[0m\u001b[1;33m\u001b[0m\u001b[1;33m\u001b[0m\u001b[0m\n\u001b[0;32m    495\u001b[0m             'args': converted_args})['value']\n",
      "\u001b[1;32m~\\anaconda3\\lib\\site-packages\\selenium\\webdriver\\remote\\webdriver.py\u001b[0m in \u001b[0;36mexecute\u001b[1;34m(self, driver_command, params)\u001b[0m\n\u001b[0;32m    433\u001b[0m         \u001b[0mresponse\u001b[0m \u001b[1;33m=\u001b[0m \u001b[0mself\u001b[0m\u001b[1;33m.\u001b[0m\u001b[0mcommand_executor\u001b[0m\u001b[1;33m.\u001b[0m\u001b[0mexecute\u001b[0m\u001b[1;33m(\u001b[0m\u001b[0mdriver_command\u001b[0m\u001b[1;33m,\u001b[0m \u001b[0mparams\u001b[0m\u001b[1;33m)\u001b[0m\u001b[1;33m\u001b[0m\u001b[1;33m\u001b[0m\u001b[0m\n\u001b[0;32m    434\u001b[0m         \u001b[1;32mif\u001b[0m \u001b[0mresponse\u001b[0m\u001b[1;33m:\u001b[0m\u001b[1;33m\u001b[0m\u001b[1;33m\u001b[0m\u001b[0m\n\u001b[1;32m--> 435\u001b[1;33m             \u001b[0mself\u001b[0m\u001b[1;33m.\u001b[0m\u001b[0merror_handler\u001b[0m\u001b[1;33m.\u001b[0m\u001b[0mcheck_response\u001b[0m\u001b[1;33m(\u001b[0m\u001b[0mresponse\u001b[0m\u001b[1;33m)\u001b[0m\u001b[1;33m\u001b[0m\u001b[1;33m\u001b[0m\u001b[0m\n\u001b[0m\u001b[0;32m    436\u001b[0m             response['value'] = self._unwrap_value(\n\u001b[0;32m    437\u001b[0m                 response.get('value', None))\n",
      "\u001b[1;32m~\\anaconda3\\lib\\site-packages\\selenium\\webdriver\\remote\\errorhandler.py\u001b[0m in \u001b[0;36mcheck_response\u001b[1;34m(self, response)\u001b[0m\n\u001b[0;32m    245\u001b[0m                 \u001b[0malert_text\u001b[0m \u001b[1;33m=\u001b[0m \u001b[0mvalue\u001b[0m\u001b[1;33m[\u001b[0m\u001b[1;34m'alert'\u001b[0m\u001b[1;33m]\u001b[0m\u001b[1;33m.\u001b[0m\u001b[0mget\u001b[0m\u001b[1;33m(\u001b[0m\u001b[1;34m'text'\u001b[0m\u001b[1;33m)\u001b[0m\u001b[1;33m\u001b[0m\u001b[1;33m\u001b[0m\u001b[0m\n\u001b[0;32m    246\u001b[0m             \u001b[1;32mraise\u001b[0m \u001b[0mexception_class\u001b[0m\u001b[1;33m(\u001b[0m\u001b[0mmessage\u001b[0m\u001b[1;33m,\u001b[0m \u001b[0mscreen\u001b[0m\u001b[1;33m,\u001b[0m \u001b[0mstacktrace\u001b[0m\u001b[1;33m,\u001b[0m \u001b[0malert_text\u001b[0m\u001b[1;33m)\u001b[0m  \u001b[1;31m# type: ignore[call-arg]  # mypy is not smart enough here\u001b[0m\u001b[1;33m\u001b[0m\u001b[1;33m\u001b[0m\u001b[0m\n\u001b[1;32m--> 247\u001b[1;33m         \u001b[1;32mraise\u001b[0m \u001b[0mexception_class\u001b[0m\u001b[1;33m(\u001b[0m\u001b[0mmessage\u001b[0m\u001b[1;33m,\u001b[0m \u001b[0mscreen\u001b[0m\u001b[1;33m,\u001b[0m \u001b[0mstacktrace\u001b[0m\u001b[1;33m)\u001b[0m\u001b[1;33m\u001b[0m\u001b[1;33m\u001b[0m\u001b[0m\n\u001b[0m\u001b[0;32m    248\u001b[0m \u001b[1;33m\u001b[0m\u001b[0m\n\u001b[0;32m    249\u001b[0m     \u001b[1;32mdef\u001b[0m \u001b[0m_value_or_default\u001b[0m\u001b[1;33m(\u001b[0m\u001b[0mself\u001b[0m\u001b[1;33m,\u001b[0m \u001b[0mobj\u001b[0m\u001b[1;33m:\u001b[0m \u001b[0mMapping\u001b[0m\u001b[1;33m[\u001b[0m\u001b[0m_KT\u001b[0m\u001b[1;33m,\u001b[0m \u001b[0m_VT\u001b[0m\u001b[1;33m]\u001b[0m\u001b[1;33m,\u001b[0m \u001b[0mkey\u001b[0m\u001b[1;33m:\u001b[0m \u001b[0m_KT\u001b[0m\u001b[1;33m,\u001b[0m \u001b[0mdefault\u001b[0m\u001b[1;33m:\u001b[0m \u001b[0m_VT\u001b[0m\u001b[1;33m)\u001b[0m \u001b[1;33m->\u001b[0m \u001b[0m_VT\u001b[0m\u001b[1;33m:\u001b[0m\u001b[1;33m\u001b[0m\u001b[1;33m\u001b[0m\u001b[0m\n",
      "\u001b[1;31mStaleElementReferenceException\u001b[0m: Message: stale element reference: element is not attached to the page document\n  (Session info: chrome=103.0.5060.114)\nStacktrace:\nBacktrace:\n\tOrdinal0 [0x01016463+2188387]\n\tOrdinal0 [0x00FAE461+1762401]\n\tOrdinal0 [0x00EC3D78+802168]\n\tOrdinal0 [0x00EC6754+812884]\n\tOrdinal0 [0x00EC6612+812562]\n\tOrdinal0 [0x00EC6F8A+814986]\n\tOrdinal0 [0x00F1D669+1169001]\n\tOrdinal0 [0x00F0C7DC+1099740]\n\tOrdinal0 [0x00F1CC22+1166370]\n\tOrdinal0 [0x00F0C5F6+1099254]\n\tOrdinal0 [0x00EE6BE0+945120]\n\tOrdinal0 [0x00EE7AD6+948950]\n\tGetHandleVerifier [0x012B71F2+2712546]\n\tGetHandleVerifier [0x012A886D+2652765]\n\tGetHandleVerifier [0x010A002A+520730]\n\tGetHandleVerifier [0x0109EE06+516086]\n\tOrdinal0 [0x00FB468B+1787531]\n\tOrdinal0 [0x00FB8E88+1805960]\n\tOrdinal0 [0x00FB8F75+1806197]\n\tOrdinal0 [0x00FC1DF1+1842673]\n\tBaseThreadInitThunk [0x7553FA29+25]\n\tRtlGetAppContainerNamedObjectPath [0x77557A9E+286]\n\tRtlGetAppContainerNamedObjectPath [0x77557A6E+238]\n"
     ]
    }
   ],
   "source": [
    "driver.execute_script(\"arguments[0].click();\", job)"
   ]
  },
  {
   "cell_type": "code",
   "execution_count": 245,
   "id": "8749e562",
   "metadata": {},
   "outputs": [],
   "source": [
    "search = driver.find_element(By.XPATH,\"/html/body/div/div/div/div[2]/div[1]/div[1]/div/div/div/div/span/input\")"
   ]
  },
  {
   "cell_type": "code",
   "execution_count": 246,
   "id": "6b030d51",
   "metadata": {},
   "outputs": [],
   "source": [
    "search.send_keys('Data Scientist')"
   ]
  },
  {
   "cell_type": "code",
   "execution_count": 247,
   "id": "dcc2b529",
   "metadata": {},
   "outputs": [],
   "source": [
    "search_btn = driver.find_element(By.XPATH,\"/html/body/div/div/div/div[2]/div[1]/div[1]/div/div/div/button/span\")"
   ]
  },
  {
   "cell_type": "code",
   "execution_count": 248,
   "id": "a349f435",
   "metadata": {},
   "outputs": [],
   "source": [
    "driver.execute_script(\"arguments[0].click();\", search_btn)"
   ]
  },
  {
   "cell_type": "code",
   "execution_count": 249,
   "id": "5e55fc30",
   "metadata": {},
   "outputs": [],
   "source": [
    "search_loc = driver.find_element(By.XPATH,\"/html/body/div/div/div/div[2]/div[1]/div[2]/div[1]/div/div/div/div[2]/div[1]/p\")"
   ]
  },
  {
   "cell_type": "code",
   "execution_count": 250,
   "id": "0eb229eb",
   "metadata": {},
   "outputs": [],
   "source": [
    "driver.execute_script(\"arguments[0].click();\", search_loc)"
   ]
  },
  {
   "cell_type": "code",
   "execution_count": 251,
   "id": "a5aa0c16",
   "metadata": {},
   "outputs": [],
   "source": [
    "search_loca = driver.find_element(By.XPATH,\"/html/body/div/div/div/div[2]/div[1]/div[2]/div[1]/div/div/div/div[2]/div[2]/div/div[2]/input\")"
   ]
  },
  {
   "cell_type": "code",
   "execution_count": 252,
   "id": "42b9ab47",
   "metadata": {},
   "outputs": [],
   "source": [
    "search.send_keys('Noida')"
   ]
  },
  {
   "cell_type": "markdown",
   "id": "72452076",
   "metadata": {},
   "source": [
    "# Q10: Write a python program to scrape the salary data for Data Scientist designation.\n",
    "## You have to scrape Company name, Number of salaries, Average salary, Minsalary, Max Salary.\n",
    "## The above task will be, done as shown in the below steps:\n",
    "## 1. First get the webpage https://www.ambitionbox.com/\n",
    "## 2. Click on the salaries option as shown in the image.\n",
    "## 3. After reaching to the following webpage, In place of “Search Job Profile” enters “Data Scientist” and then click on “Data Scientist”.\n",
    "## 4. Scrape the data for the first 10 companies. Scrape the company name, total salary record, average salary, minimum salary, maximum salary, experience required.\n",
    "## 5. Store the data in a dataframe."
   ]
  },
  {
   "cell_type": "code",
   "execution_count": 28,
   "id": "c3da8c2d",
   "metadata": {},
   "outputs": [],
   "source": [
    "import selenium\n",
    "from selenium import webdriver\n",
    "from selenium.webdriver.common.by import By\n",
    "import pandas as pd\n",
    "import warnings\n",
    "warnings.filterwarnings('ignore')"
   ]
  },
  {
   "cell_type": "code",
   "execution_count": 29,
   "id": "15b61a4a",
   "metadata": {},
   "outputs": [],
   "source": [
    "driver = webdriver.Chrome('chromedriver.exe')"
   ]
  },
  {
   "cell_type": "code",
   "execution_count": 30,
   "id": "a2d2598b",
   "metadata": {},
   "outputs": [],
   "source": [
    "url = 'https://www.ambitionbox.com/'\n",
    "driver.get(url)"
   ]
  },
  {
   "cell_type": "code",
   "execution_count": 31,
   "id": "582960ef",
   "metadata": {},
   "outputs": [],
   "source": [
    "salaries = driver.find_element(By.XPATH,\"/html/body/div[1]/nav/nav/a[4]\")"
   ]
  },
  {
   "cell_type": "code",
   "execution_count": 32,
   "id": "c73c22a4",
   "metadata": {},
   "outputs": [],
   "source": [
    "driver.execute_script(\"arguments[0].click();\", salaries)"
   ]
  },
  {
   "cell_type": "code",
   "execution_count": 33,
   "id": "bd96363f",
   "metadata": {},
   "outputs": [],
   "source": [
    "search = driver.find_element(By.XPATH,\"/html/body/div/div/div/main/section[1]/div[2]/div[1]/span/input\")"
   ]
  },
  {
   "cell_type": "code",
   "execution_count": 34,
   "id": "410bbef4",
   "metadata": {},
   "outputs": [],
   "source": [
    "search.send_keys('Data Scientist')"
   ]
  },
  {
   "cell_type": "code",
   "execution_count": 35,
   "id": "535a55d8",
   "metadata": {},
   "outputs": [],
   "source": [
    "suggest = driver.find_element(By.XPATH,\"/html/body/div/div/div/main/section[1]/div[2]/div[1]/span/div/div/div[1]/div/div\")"
   ]
  },
  {
   "cell_type": "code",
   "execution_count": 36,
   "id": "60389406",
   "metadata": {},
   "outputs": [],
   "source": [
    "driver.execute_script(\"arguments[0].click();\", suggest)"
   ]
  },
  {
   "cell_type": "code",
   "execution_count": 43,
   "id": "6b257be7",
   "metadata": {},
   "outputs": [
    {
     "data": {
      "text/plain": [
       "10"
      ]
     },
     "execution_count": 43,
     "metadata": {},
     "output_type": "execute_result"
    }
   ],
   "source": [
    "name = driver.find_elements(By.XPATH,'//div[@class=\"company-info\"]')\n",
    "names = []\n",
    "for i in name:\n",
    "    names.append(i.text.split('\\n')[0])\n",
    "del names[10:]\n",
    "len(names)"
   ]
  },
  {
   "cell_type": "code",
   "execution_count": 56,
   "id": "2326bc01",
   "metadata": {},
   "outputs": [
    {
     "ename": "SyntaxError",
     "evalue": "invalid syntax (Temp/ipykernel_4836/2066815750.py, line 4)",
     "output_type": "error",
     "traceback": [
      "\u001b[1;36m  File \u001b[1;32m\"C:\\Users\\sarth\\AppData\\Local\\Temp/ipykernel_4836/2066815750.py\"\u001b[1;36m, line \u001b[1;32m4\u001b[0m\n\u001b[1;33m    exps.append(i.text.split('\\n')[-1].split('(').[2])\u001b[0m\n\u001b[1;37m                                                  ^\u001b[0m\n\u001b[1;31mSyntaxError\u001b[0m\u001b[1;31m:\u001b[0m invalid syntax\n"
     ]
    }
   ],
   "source": [
    "exp = driver.find_elements(By.XPATH,'//div[@class=\"company-info\"]')\n",
    "exps = []\n",
    "for i in exp:\n",
    "    exps.append(i.text.split('\\n')[-1].split('(').[2])\n",
    "del exps[10:]\n",
    "exps"
   ]
  },
  {
   "cell_type": "code",
   "execution_count": null,
   "id": "f40b900a",
   "metadata": {},
   "outputs": [],
   "source": []
  }
 ],
 "metadata": {
  "kernelspec": {
   "display_name": "Python 3 (ipykernel)",
   "language": "python",
   "name": "python3"
  },
  "language_info": {
   "codemirror_mode": {
    "name": "ipython",
    "version": 3
   },
   "file_extension": ".py",
   "mimetype": "text/x-python",
   "name": "python",
   "nbconvert_exporter": "python",
   "pygments_lexer": "ipython3",
   "version": "3.9.7"
  }
 },
 "nbformat": 4,
 "nbformat_minor": 5
}
