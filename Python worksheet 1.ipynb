{
 "cells": [
  {
   "cell_type": "markdown",
   "id": "80280b45",
   "metadata": {},
   "source": [
    "# 11. Write a python program to find the factorial of a number."
   ]
  },
  {
   "cell_type": "code",
   "execution_count": 8,
   "id": "5861e82f",
   "metadata": {},
   "outputs": [
    {
     "name": "stdout",
     "output_type": "stream",
     "text": [
      "Enter the number 2\n",
      "2!=2\n"
     ]
    }
   ],
   "source": [
    "i = int(input(\"Enter the number \"))\n",
    "fac = 1\n",
    "if (i<0):\n",
    "    print(\"Negative factorial can not be computed\")\n",
    "elif (i<2):\n",
    "    print(\"{}!={}\".format(i, fac))\n",
    "else:\n",
    "    for num in range(i, 1, -1):\n",
    "        fac = fac * num\n",
    "    print(\"{}!={}\".format(i, fac))"
   ]
  },
  {
   "cell_type": "markdown",
   "id": "85021701",
   "metadata": {},
   "source": [
    "# 12. Write a python program to find whether a number is prime or composite."
   ]
  },
  {
   "cell_type": "code",
   "execution_count": 7,
   "id": "f18baf60",
   "metadata": {},
   "outputs": [
    {
     "name": "stdout",
     "output_type": "stream",
     "text": [
      "Enter the number 1\n",
      "1 is neither a prime nor a composite number\n"
     ]
    }
   ],
   "source": [
    "number = int(input(\"Enter the number \"))\n",
    "if number < 1:\n",
    "    print(\"Number needs to be greater than 1\")\n",
    "elif number == 1:\n",
    "    print(\"1 is neither a prime nor a composite number\")\n",
    "else:\n",
    "    for divisor in range(2,(number//2)+1):\n",
    "        if (number % divisor) == 0:\n",
    "            print (number,\"is a Composite Number\")\n",
    "            break\n",
    "        else:\n",
    "            print (number,\"is a Prime Number\")"
   ]
  },
  {
   "cell_type": "markdown",
   "id": "17f65b19",
   "metadata": {},
   "source": [
    "# 13. Write a python program to check whether a given string is palindrome or not."
   ]
  },
  {
   "cell_type": "code",
   "execution_count": 10,
   "id": "19564467",
   "metadata": {},
   "outputs": [
    {
     "name": "stdout",
     "output_type": "stream",
     "text": [
      "Enter the stringjoj\n",
      "Entered string is a palindrome\n"
     ]
    }
   ],
   "source": [
    "s = input(\"Enter the string\")\n",
    "reverse = s[::-1]\n",
    "if (s == reverse):\n",
    "    print(\"Entered string is a palindrome\")\n",
    "else:\n",
    "    print(\"Entered string is not a palindrome\")"
   ]
  },
  {
   "cell_type": "markdown",
   "id": "47f71c2f",
   "metadata": {},
   "source": [
    "# 14. Write a Python program to get the third side of right-angled triangle from two given sides."
   ]
  },
  {
   "cell_type": "code",
   "execution_count": 14,
   "id": "a7e75223",
   "metadata": {},
   "outputs": [
    {
     "name": "stdout",
     "output_type": "stream",
     "text": [
      "Enter the perpendicular of the triangle 4\n",
      "Enter the base of the triangle 3\n",
      "The hypotenuse of the triangle is  5.0\n"
     ]
    }
   ],
   "source": [
    "import math\n",
    "a = float(input(\"Enter the perpendicular of the triangle \"))\n",
    "b = float(input(\"Enter the base of the triangle \"))\n",
    "c = math.sqrt((a**2) + (b**2))\n",
    "print(\"The hypotenuse of the triangle is \", c)"
   ]
  },
  {
   "cell_type": "markdown",
   "id": "956e9e58",
   "metadata": {},
   "source": [
    "# 15. Write a python program to print the frequency of each of the characters present in a given string."
   ]
  },
  {
   "cell_type": "code",
   "execution_count": 15,
   "id": "28ec49f5",
   "metadata": {},
   "outputs": [
    {
     "name": "stdout",
     "output_type": "stream",
     "text": [
      "Enter the stringSarthak\n",
      "The count along with character is: 1S2a1r1t1h1k\n"
     ]
    }
   ],
   "source": [
    "inp = input(\"Enter the string\")\n",
    "x = set()\n",
    "result = \"\"\n",
    "for i in inp:\n",
    "    if i not in x:\n",
    "        x.add(i)\n",
    "        result = result + str(inp.count(i)) + i\n",
    "print(\"The count along with character is: \" + result)"
   ]
  },
  {
   "cell_type": "code",
   "execution_count": null,
   "id": "ac24eaf2",
   "metadata": {},
   "outputs": [],
   "source": []
  }
 ],
 "metadata": {
  "kernelspec": {
   "display_name": "Python 3 (ipykernel)",
   "language": "python",
   "name": "python3"
  },
  "language_info": {
   "codemirror_mode": {
    "name": "ipython",
    "version": 3
   },
   "file_extension": ".py",
   "mimetype": "text/x-python",
   "name": "python",
   "nbconvert_exporter": "python",
   "pygments_lexer": "ipython3",
   "version": "3.9.7"
  }
 },
 "nbformat": 4,
 "nbformat_minor": 5
}
